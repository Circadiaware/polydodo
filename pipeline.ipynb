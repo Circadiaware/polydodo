{
 "cells": [
  {
   "cell_type": "markdown",
   "metadata": {},
   "source": [
    "# Sleep stages classification pipeline\n",
    "___\n",
    "\n",
    "This notebooks aims to construct our feature matrix from our sleep records [sleep-edf](https://physionet.org/content/sleep-edfx/1.0.0/) from _physionet_. \n",
    "\n",
    "We will reuse the chosen features from our exploration notebook.\n",
    "\n",
    "Since all of the dataset cannot be loaded in memory at the same time, we will have to implement a pipeline, where each step can then be run with only one recording at a time. At the end of this notebook, we will be able to concatenate all resulting features in a single matrix."
   ]
  },
  {
   "cell_type": "code",
   "execution_count": null,
   "metadata": {},
   "outputs": [],
   "source": [
    "%matplotlib inline\n",
    "\n",
    "import matplotlib.pyplot as plt\n",
    "import pandas as pd\n",
    "import numpy as np\n",
    "\n",
    "import mne\n",
    "from mne.datasets.sleep_physionet.age import fetch_data"
   ]
  },
  {
   "cell_type": "code",
   "execution_count": null,
   "metadata": {},
   "outputs": [],
   "source": [
    "SUBJECTS = range(1)\n",
    "NIGHT_RECORDINGS = [1]\n",
    "NB_EPOCHS_AWAKE_MORNING = 50\n",
    "\n",
    "SAMPLING_FREQ = 100\n",
    "EPOCH_DURATION = 30. # in seconds\n",
    "MAX_TIME = EPOCH_DURATION - 1. / SAMPLING_FREQ  # tmax in included\n",
    "\n",
    "EEG_CHANNELS = [\n",
    "    'EEG Fpz-Cz',\n",
    "    'EEG Pz-Oz'\n",
    "]\n",
    "\n",
    "# Values\n",
    "W = 0\n",
    "N1 = 1\n",
    "N2 = 2\n",
    "N3 = 3\n",
    "REM = 4\n",
    "\n",
    "ANNOTATIONS_EVENT_ID = {\n",
    "    'Sleep stage W': W,\n",
    "    'Sleep stage 1': N1,\n",
    "    'Sleep stage 2': N2,\n",
    "    'Sleep stage 3': N3,\n",
    "    'Sleep stage 4': N3,\n",
    "    'Sleep stage R': REM\n",
    "}\n",
    "\n",
    "EVENT_ID = {\n",
    "    \"W\": W,\n",
    "    \"N1\": N1,\n",
    "    \"N2\": N2,\n",
    "    \"N3\": N3,\n",
    "    \"REM\": REM\n",
    "}"
   ]
  },
  {
   "cell_type": "markdown",
   "metadata": {},
   "source": [
    "## Preprocessing\n",
    "___\n",
    "\n",
    "Our dataset consists of 39 recordings, each containing about 20 hours of EEG, EOG, EMG, and other signals, sampled at 100 or 1Hz.\n",
    "\n",
    "### 0. Loading recordings informations\n",
    "___\n",
    "\n",
    "This file contains information about when a recording was started, at which time the subject went to bed and the amount of sleep he got."
   ]
  },
  {
   "cell_type": "code",
   "execution_count": null,
   "metadata": {},
   "outputs": [],
   "source": [
    "df_records = pd.read_csv(\"data/recordings-info.csv\")\n",
    "df_records.head(5)\n"
   ]
  },
  {
   "cell_type": "markdown",
   "metadata": {},
   "source": [
    "\n",
    "\n",
    "### 1. Retrieve data from file and convert to dataframe\n",
    "___\n",
    "\n",
    "This step includes:\n",
    "- Retrieving edf file\n",
    "- Excluding none EEG channels\n",
    "- Crops the nights recording between the moment the lights are turned off and the subject wakes up."
   ]
  },
  {
   "cell_type": "code",
   "execution_count": null,
   "metadata": {},
   "outputs": [],
   "source": [
    "def fetch_signal(psg_file_name, hypno_file_name):\n",
    "    \"\"\"\n",
    "    returns: mne.Raw of the whole night recording\n",
    "    \"\"\"\n",
    "    raw_data = mne.io.read_raw_edf(psg_file_name, preload=True, stim_channel=None, verbose=False)\n",
    "    annot = mne.read_annotations(hypno_file_name)\n",
    "    raw_data.set_annotations(annot, emit_warning=False)\n",
    "    \n",
    "    return raw_data\n",
    "\n",
    "def drop_other_channels(raw_data, channel_to_keep):\n",
    "    \"\"\"\n",
    "    returns: mne.Raw with the two EEG channels and the signal\n",
    "        between the time the subject closed the lights and the time\n",
    "        at which the subject woke up\n",
    "    \"\"\"\n",
    "    raw_data.drop_channels([ch for ch in raw_data.info['ch_names'] if ch != channel_to_keep])\n",
    "    \n",
    "    return raw_data\n",
    "\n",
    "def convert_to_epochs(raw_data, info):\n",
    "    \"\"\"\n",
    "    returns: mne.Epochs, where the epochs are only choosen if the subject was in bed.\n",
    "    \"\"\"\n",
    "\n",
    "    # Number of seconds since file began\n",
    "    closed_lights_time = info['LightsOffSecond']\n",
    "    woke_up_time = closed_lights_time + info['NightDuration'] + NB_EPOCHS_AWAKE_MORNING*EPOCH_DURATION\n",
    "    \n",
    "    events, _ = mne.events_from_annotations(\n",
    "        raw_data,\n",
    "        event_id=ANNOTATIONS_EVENT_ID,\n",
    "        chunk_duration=EPOCH_DURATION,\n",
    "        verbose=False)\n",
    "    \n",
    "    raw_data.crop(tmin=closed_lights_time, tmax=woke_up_time)\n",
    "    \n",
    "    return mne.Epochs(\n",
    "        raw=raw_data,\n",
    "        events=events,\n",
    "        event_id=EVENT_ID,\n",
    "        tmin=0.,\n",
    "        tmax=MAX_TIME,\n",
    "        preload=True,\n",
    "        baseline=None,\n",
    "        verbose=False)\n",
    "\n",
    "\n",
    "def convert_to_matrices(data):\n",
    "    \"\"\"\n",
    "    data: mne.Epochs with only one EEG channel\n",
    "    \n",
    "    returns\n",
    "        - X: Matrix of input values, of size (nb_epochs, sampling_rate*epoch_length=3000)\n",
    "        - y: Vector of observation labels, of size (nb_epochs,)\n",
    "    \"\"\"\n",
    "    df = data.to_data_frame(picks=\"eeg\", long_format=True)\n",
    "    df = df.drop(columns=['ch_type', 'channel'])\n",
    "    df = df.sort_values(by=['epoch', 'time'])\n",
    "    \n",
    "    y = df[['epoch', 'condition']].drop_duplicates(keep=\"first\")['condition'].to_numpy()\n",
    "    X = np.matrix(\n",
    "        [df[df['epoch'] == epoch]['observation'].to_numpy() for epoch in df['epoch'].unique()]\n",
    "    )\n",
    "\n",
    "    return X,y"
   ]
  },
  {
   "cell_type": "markdown",
   "metadata": {},
   "source": [
    "## Pipeline\n",
    "___"
   ]
  },
  {
   "cell_type": "code",
   "execution_count": null,
   "metadata": {},
   "outputs": [],
   "source": [
    "%%time\n",
    "\n",
    "subject_file_names = fetch_data(subjects=SUBJECTS, recording=NIGHT_RECORDINGS)\n",
    "psg_file_names = [names[0] for names in subject_file_names]\n",
    "stage_file_names = [names[1] for names in subject_file_names]\n",
    "\n",
    "for i in range(len(subject_file_names)):\n",
    "    raw_data = fetch_signal(psg_file_names[i], stage_file_names[i])\n",
    "\n",
    "    for channel in EEG_CHANNELS:\n",
    "        data = raw_data.copy()\n",
    "        data = drop_other_channels(data, channel)\n",
    "        data = convert_to_epochs(data, df_records.iloc[i])\n",
    "        print(data)\n",
    "\n",
    "        X, y = convert_to_matrices(data)\n",
    "        print(X, y)\n",
    "        del data, X, y\n",
    "\n",
    "    del raw_data\n"
   ]
  },
  {
   "cell_type": "code",
   "execution_count": null,
   "metadata": {},
   "outputs": [],
   "source": []
  }
 ],
 "metadata": {
  "kernelspec": {
   "display_name": "Python 3",
   "language": "python",
   "name": "python3"
  },
  "language_info": {
   "codemirror_mode": {
    "name": "ipython",
    "version": 3
   },
   "file_extension": ".py",
   "mimetype": "text/x-python",
   "name": "python",
   "nbconvert_exporter": "python",
   "pygments_lexer": "ipython3",
   "version": "3.6.8"
  }
 },
 "nbformat": 4,
 "nbformat_minor": 4
}
