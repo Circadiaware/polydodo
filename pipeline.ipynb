{
 "cells": [
  {
   "cell_type": "markdown",
   "metadata": {},
   "source": [
    "# Sleep stages classification pipeline\n",
    "___\n",
    "\n",
    "This notebooks aims to construct our feature matrix from our sleep records [sleep-edf](https://physionet.org/content/sleep-edfx/1.0.0/) from _physionet_. \n",
    "\n",
    "We will reuse the chosen features from our exploration notebook.\n",
    "\n",
    "Since all of the dataset cannot be loaded in memory at the same time, we will have to implement a pipeline, where each step can then be run with only one recording at a time. At the end of this notebook, we will be able to concatenate all resulting features in a single matrix."
   ]
  },
  {
   "cell_type": "code",
   "execution_count": null,
   "metadata": {},
   "outputs": [],
   "source": [
    "%matplotlib inline\n",
    "\n",
    "import matplotlib.pyplot as plt\n",
    "import pandas as pd\n",
    "import numpy as np\n",
    "from sklearn.pipeline import FeatureUnion, Pipeline\n",
    "from sklearn.preprocessing import FunctionTransformer\n",
    "from sklearn.model_selection import train_test_split\n",
    "from sklearn.ensemble import RandomForestClassifier\n",
    "from sklearn.metrics import (accuracy_score, confusion_matrix, classification_report)\n",
    "\n",
    "import mne\n",
    "from mne.datasets.sleep_physionet.age import fetch_data\n",
    "from mne.time_frequency import psd_welch"
   ]
  },
  {
   "cell_type": "code",
   "execution_count": null,
   "metadata": {},
   "outputs": [],
   "source": [
    "SUBJECTS = range(20)\n",
    "NIGHT_RECORDINGS = [1, 2]\n",
    "NB_EPOCHS_AWAKE_MORNING = 60\n",
    "\n",
    "SAMPLING_FREQ = 100\n",
    "EPOCH_DURATION = 30. # in seconds\n",
    "MAX_TIME = EPOCH_DURATION - 1. / SAMPLING_FREQ  # tmax in included\n",
    "\n",
    "EEG_CHANNELS = [\n",
    "    'EEG Fpz-Cz',\n",
    "    'EEG Pz-Oz'\n",
    "]\n",
    "\n",
    "# Values\n",
    "W = 0\n",
    "N1 = 1\n",
    "N2 = 2\n",
    "N3 = 3\n",
    "REM = 4\n",
    "\n",
    "ANNOTATIONS_EVENT_ID = {\n",
    "    'Sleep stage W': W,\n",
    "    'Sleep stage 1': N1,\n",
    "    'Sleep stage 2': N2,\n",
    "    'Sleep stage 3': N3,\n",
    "    'Sleep stage 4': N3,\n",
    "    'Sleep stage R': REM\n",
    "}\n",
    "\n",
    "EVENT_ID = {\n",
    "    \"W\": W,\n",
    "    \"N1\": N1,\n",
    "    \"N2\": N2,\n",
    "    \"N3\": N3,\n",
    "    \"REM\": REM\n",
    "}"
   ]
  },
  {
   "cell_type": "markdown",
   "metadata": {},
   "source": [
    "## Preprocessing\n",
    "___\n",
    "\n",
    "Our dataset consists of 39 recordings, each containing about 20 hours of EEG, EOG, EMG, and other signals, sampled at 100 or 1Hz.\n",
    "\n",
    "### 1. Loading recordings informations\n",
    "___\n",
    "\n",
    "This file contains information about when a recording was started, at which time the subject went to bed and the amount of sleep he got."
   ]
  },
  {
   "cell_type": "code",
   "execution_count": null,
   "metadata": {},
   "outputs": [],
   "source": [
    "df_records = pd.read_csv(\"data/recordings-info.csv\")\n",
    "df_records.head(5)"
   ]
  },
  {
   "cell_type": "markdown",
   "metadata": {},
   "source": [
    "\n",
    "\n",
    "### 2. Retrieve data from file and filter to only one channel of EEG\n",
    "___\n",
    "\n",
    "This step includes:\n",
    "- Retrieving edf file\n",
    "- Excluding none EEG channels"
   ]
  },
  {
   "cell_type": "code",
   "execution_count": null,
   "metadata": {},
   "outputs": [],
   "source": [
    "def fetch_signal(psg_file_name, hypno_file_name):\n",
    "    \"\"\"\n",
    "    returns: mne.Raw of the whole night recording\n",
    "    \"\"\"\n",
    "    raw_data = mne.io.read_raw_edf(psg_file_name, preload=True, stim_channel=None, verbose=False)\n",
    "    annot = mne.read_annotations(hypno_file_name)\n",
    "    raw_data.set_annotations(annot, emit_warning=False)\n",
    "    \n",
    "    return raw_data\n",
    "\n",
    "def drop_other_channels(raw_data, channel_to_keep):\n",
    "    \"\"\"\n",
    "    returns: mne.Raw with the two EEG channels and the signal\n",
    "        between the time the subject closed the lights and the time\n",
    "        at which the subject woke up\n",
    "    \"\"\"\n",
    "    raw_data.drop_channels([ch for ch in raw_data.info['ch_names'] if ch != channel_to_keep])\n",
    "    \n",
    "    return raw_data\n"
   ]
  },
  {
   "cell_type": "markdown",
   "metadata": {},
   "source": [
    "### 3. Convert Raw signal to matrices\n",
    "___"
   ]
  },
  {
   "cell_type": "code",
   "execution_count": null,
   "metadata": {},
   "outputs": [],
   "source": [
    "def convert_to_epochs(raw_data, info):\n",
    "    \"\"\"\n",
    "    returns:\n",
    "        mne.Epochs, where the epochs are only choosen if the subject was in bed.\n",
    "        y: np array of shape (nb_epochs,), which contains each epoch label.\n",
    "    \"\"\"\n",
    "\n",
    "    # Number of seconds since file began\n",
    "    closed_lights_time = info['LightsOffSecond']\n",
    "    woke_up_time = closed_lights_time + info['NightDuration'] + NB_EPOCHS_AWAKE_MORNING*EPOCH_DURATION\n",
    "    \n",
    "    raw_data.crop(tmin=closed_lights_time, tmax=woke_up_time)\n",
    "    \n",
    "    events, _ = mne.events_from_annotations(\n",
    "        raw_data,\n",
    "        event_id=ANNOTATIONS_EVENT_ID,\n",
    "        chunk_duration=EPOCH_DURATION,\n",
    "        verbose=False)\n",
    "    \n",
    "    epochs = mne.Epochs(\n",
    "        raw=raw_data,\n",
    "        events=events,\n",
    "        event_id=EVENT_ID,\n",
    "        tmin=0.,\n",
    "        tmax=MAX_TIME,\n",
    "        preload=True,\n",
    "        baseline=None,\n",
    "        verbose=False)\n",
    "    \n",
    "    y = np.array([event[-1] for event in epochs.events])\n",
    "    \n",
    "    return epochs, y \n",
    "\n",
    "\n",
    "def convert_to_matrices(data):\n",
    "    \"\"\"\n",
    "    data: mne.Epochs with only one EEG channel\n",
    "    \n",
    "    returns\n",
    "        - X: Matrix of input values, of size (nb_epochs, sampling_rate*epoch_length=3000)\n",
    "        - y: Vector of observation labels, of size (nb_epochs,)\n",
    "    \"\"\"\n",
    "    df = data.to_data_frame(picks=\"eeg\", long_format=True)\n",
    "    df = df.drop(columns=['ch_type', 'channel'])\n",
    "    df = df.sort_values(by=['epoch', 'time'])\n",
    "    \n",
    "    y = df[['epoch', 'condition']].drop_duplicates(keep=\"first\")['condition'].to_numpy()\n",
    "    X = np.matrix(\n",
    "        [df[df['epoch'] == epoch]['observation'].to_numpy() for epoch in df['epoch'].unique()]\n",
    "    )\n",
    "\n",
    "    return X, y"
   ]
  },
  {
   "cell_type": "markdown",
   "metadata": {},
   "source": [
    "Complete function to apply in order to preprocess our data:"
   ]
  },
  {
   "cell_type": "code",
   "execution_count": null,
   "metadata": {},
   "outputs": [],
   "source": [
    "def preprocess(data, current_channel, convert_to_matrices=False):\n",
    "    \"\"\"\n",
    "    data: mne.Raw \n",
    "        Instance of all of the night recording and all channels\n",
    "    current_channel: str \n",
    "        Current EEG channel\n",
    "        \n",
    "    returns\n",
    "        - X: Matrix of input values, of size (nb_epochs, sampling_rate*epoch_length=3000)\n",
    "        - y: Vector of observation labels, of size (nb_epochs,)\n",
    "    \"\"\"\n",
    "    data = drop_other_channels(data, channel)\n",
    "    data, y = convert_to_epochs(data, df_records.iloc[i])\n",
    "    \n",
    "    if not convert_to_matrices:\n",
    "        return data, y\n",
    "    \n",
    "    return convert_to_matrices(data)\n"
   ]
  },
  {
   "cell_type": "markdown",
   "metadata": {},
   "source": [
    "## Feature extraction\n",
    "___\n",
    "\n",
    "\n",
    "```\n",
    "        Frequency domain\n",
    "        features                +----> Average delta band +-+\n",
    "                +-------+       |                           |\n",
    "      +-------->+  FFT  +-------+      ...                  |\n",
    "      |         +-------+       |                           |\n",
    "      |                         +----> Mean frequency  +----+\n",
    "      |                                                     |\n",
    "      |                                                     |\n",
    "      |                                                     |\n",
    "  X +-+                                                     +-> X'\n",
    "Input |                                                     |   Features\n",
    "mne.  |                         +-----> Variance +----------+   np.array\n",
    "Epochs|                         |                           |   shape: (nb_epochs, nb_features)\n",
    "      |         +----------+    |                           |\n",
    "      +-------->+ get_data +-------------> Mean +--------------+\n",
    "                +----------+    |                           |\n",
    "                                |       ...                 |\n",
    "                                |                           |\n",
    "                                +-----> Zero cross rate ----+\n",
    "        Time\n",
    "        domain features\n",
    "\n",
    "```"
   ]
  },
  {
   "cell_type": "code",
   "execution_count": null,
   "metadata": {},
   "outputs": [],
   "source": [
    "def get_data_from_epochs(epochs):\n",
    "    \"\"\"\n",
    "    epochs: mne.Epochs\n",
    "    \n",
    "    returns np array of shape (nb_epochs, sampling_rate*epoch_length)\n",
    "    \"\"\"\n",
    "    return epochs.get_data().squeeze()\n",
    "\n",
    "get_data_from_epochs_transformer = FunctionTransformer(get_data_from_epochs, validate=False)"
   ]
  },
  {
   "cell_type": "code",
   "execution_count": null,
   "metadata": {},
   "outputs": [],
   "source": [
    "def get_transformer(get_feature):\n",
    "    \n",
    "    def get_one_feature_per_epoch(X, get_feature):\n",
    "        \"\"\"\n",
    "        X: Input matrix (nb_epochs, sampling_rate*epoch_length)\n",
    "        get_feature: callable \n",
    "            generates one feature for each epoch\n",
    "\n",
    "        returns matrix (nb_epoch1)\n",
    "        \"\"\"\n",
    "        return [[get_feature(epoch)] for epoch in X]\n",
    "\n",
    "    return lambda X: get_one_feature_per_epoch(X, get_feature)"
   ]
  },
  {
   "cell_type": "markdown",
   "metadata": {},
   "source": [
    "#### 1. Time domain features\n",
    "___"
   ]
  },
  {
   "cell_type": "code",
   "execution_count": null,
   "metadata": {},
   "outputs": [],
   "source": [
    "mean_transformer = FunctionTransformer(get_transformer(np.mean))\n",
    "std_transformer = FunctionTransformer(get_transformer(np.std))"
   ]
  },
  {
   "cell_type": "code",
   "execution_count": null,
   "metadata": {},
   "outputs": [],
   "source": [
    "time_domain_feature_union = FeatureUnion([\n",
    "    ('mean', mean_transformer),\n",
    "    ('std', std_transformer)\n",
    "], n_jobs=-1)\n",
    "\n",
    "time_domain_pipeline = Pipeline([\n",
    "    ('epochs_to_data', get_data_from_epochs_transformer),\n",
    "    ('time_domain_features', time_domain_feature_union)\n",
    "])"
   ]
  },
  {
   "cell_type": "markdown",
   "metadata": {},
   "source": [
    "#### 2. Frequency domain features\n",
    "___"
   ]
  },
  {
   "cell_type": "code",
   "execution_count": null,
   "metadata": {},
   "outputs": [],
   "source": [
    "def eeg_power_band(epochs):\n",
    "    \"\"\"EEG relative power band feature extraction.\n",
    "\n",
    "    This function takes an ``mne.Epochs`` object and creates EEG features based\n",
    "    on relative power in specific frequency bands that are compatible with\n",
    "    scikit-learn.\n",
    "\n",
    "    Parameters\n",
    "    ----------\n",
    "    epochs : Epochs\n",
    "        The data.\n",
    "\n",
    "    Returns\n",
    "    -------\n",
    "    X : numpy array of shape [n_samples, 5]\n",
    "        Transformed data.\n",
    "    \"\"\"\n",
    "    # specific frequency bands\n",
    "    FREQ_BANDS = {\"delta\": [0.5, 4.5],\n",
    "                  \"theta\": [4.5, 8.5],\n",
    "                  \"alpha\": [8.5, 11.5],\n",
    "                  \"sigma\": [11.5, 15.5],\n",
    "                  \"beta\": [15.5, 30]}\n",
    "\n",
    "    psds, freqs = psd_welch(epochs, fmin=0.5, fmax=30.)\n",
    "    # Normalize the PSDs\n",
    "    psds /= np.sum(psds, axis=-1, keepdims=True)\n",
    "\n",
    "    X = []\n",
    "    for fmin, fmax in FREQ_BANDS.values():\n",
    "        psds_band = psds[:, :, (freqs >= fmin) & (freqs < fmax)].mean(axis=-1)\n",
    "        X.append(psds_band.reshape(len(psds), -1))\n",
    "\n",
    "    return np.concatenate(X, axis=1)\n",
    "\n",
    "eeg_power_bands_transformer = FunctionTransformer(eeg_power_band, validate=False)"
   ]
  },
  {
   "cell_type": "code",
   "execution_count": null,
   "metadata": {},
   "outputs": [],
   "source": [
    "frequency_domain_feature_union = FeatureUnion([\n",
    "    ('power_band', eeg_power_bands_transformer)\n",
    "])\n",
    "# frequency_domain_pipeline = make_pipeline()"
   ]
  },
  {
   "cell_type": "markdown",
   "metadata": {},
   "source": [
    "#### 3. Complete feature extraction pipeline\n",
    "___"
   ]
  },
  {
   "cell_type": "code",
   "execution_count": null,
   "metadata": {},
   "outputs": [],
   "source": [
    "feature_union = FeatureUnion([\n",
    "    ('time_domain', time_domain_pipeline),\n",
    "    ('frequency_domain', frequency_domain_feature_union)\n",
    "], n_jobs=-1)"
   ]
  },
  {
   "cell_type": "markdown",
   "metadata": {},
   "source": [
    "## Extraction\n",
    "___"
   ]
  },
  {
   "cell_type": "code",
   "execution_count": null,
   "metadata": {},
   "outputs": [],
   "source": [
    "subject_file_names = fetch_data(subjects=SUBJECTS, recording=NIGHT_RECORDINGS)\n",
    "psg_file_names = [names[0] for names in subject_file_names]\n",
    "stage_file_names = [names[1] for names in subject_file_names]"
   ]
  },
  {
   "cell_type": "code",
   "execution_count": null,
   "metadata": {},
   "outputs": [],
   "source": [
    "# We don't initially know the number of observations (epoch), so we cannot instantiate numpy\n",
    "# arrays. We will convert at the end the lists into arrays.\n",
    "X = []\n",
    "y = []\n",
    "\n",
    "for i in range(len(subject_file_names)):\n",
    "    raw_data = fetch_signal(psg_file_names[i], stage_file_names[i])\n",
    "    features_file = []\n",
    "    \n",
    "    for channel in EEG_CHANNELS:\n",
    "        X_file_channel, y_file_channel = preprocess(raw_data.copy(), channel)\n",
    "        X_features = feature_union.fit_transform(X_file_channel)\n",
    "        features_file.append(X_features)            \n",
    "        \n",
    "        print(f\"Done extracting {X_features.shape[1]} features on {X_features.shape[0]} epochs for {channel} for file {psg_file_names[i]}\\n\")\n",
    "        \n",
    "        assert X_features.shape[0] == len(y_file_channel), \"Features and labels must have the same number of epochs\"\n",
    "\n",
    "    # Only extends y one time, because both channels refer to the same epochs\n",
    "    y.extend(y_file_channel) \n",
    "    X.extend(np.hstack(tuple(features_file)))\n",
    "\n",
    "X = np.asarray(X)\n",
    "y = np.asarray(y)\n",
    "print(X.shape)\n",
    "print(y.shape)\n",
    "\n",
    "del raw_data"
   ]
  },
  {
   "cell_type": "code",
   "execution_count": null,
   "metadata": {},
   "outputs": [],
   "source": [
    "X.shape\n",
    "y.shape"
   ]
  },
  {
   "cell_type": "code",
   "execution_count": null,
   "metadata": {},
   "outputs": [],
   "source": [
    "X_train, X_test, y_train, y_test = train_test_split(X, y, test_size=0.33, random_state=42)"
   ]
  },
  {
   "cell_type": "code",
   "execution_count": null,
   "metadata": {},
   "outputs": [],
   "source": [
    "classifier = RandomForestClassifier(n_estimators=100, random_state=42)\n",
    "\n",
    "classifier.fit(X_train, y_train)\n",
    "y_test_pred = classifier.predict(X_test)\n",
    "\n",
    "print(f\"Accuracy score: {accuracy_score(y_test, y_test_pred)}\")"
   ]
  },
  {
   "cell_type": "code",
   "execution_count": null,
   "metadata": {},
   "outputs": [],
   "source": [
    "print(confusion_matrix(y_test, y_test_pred))"
   ]
  },
  {
   "cell_type": "code",
   "execution_count": null,
   "metadata": {},
   "outputs": [],
   "source": [
    "print(classification_report(y_test, y_test_pred, target_names=EVENT_ID.keys()))"
   ]
  },
  {
   "cell_type": "code",
   "execution_count": null,
   "metadata": {},
   "outputs": [],
   "source": []
  }
 ],
 "metadata": {
  "kernelspec": {
   "display_name": "Python 3",
   "language": "python",
   "name": "python3"
  },
  "language_info": {
   "codemirror_mode": {
    "name": "ipython",
    "version": 3
   },
   "file_extension": ".py",
   "mimetype": "text/x-python",
   "name": "python",
   "nbconvert_exporter": "python",
   "pygments_lexer": "ipython3",
   "version": "3.6.8"
  }
 },
 "nbformat": 4,
 "nbformat_minor": 4
}
