{
 "cells": [
  {
   "cell_type": "code",
   "execution_count": 89,
   "metadata": {
    "colab": {
     "base_uri": "https://localhost:8080/",
     "height": 570
    },
    "colab_type": "code",
    "executionInfo": {
     "elapsed": 12907,
     "status": "ok",
     "timestamp": 1574455133556,
     "user": {
      "displayName": "Billytherat",
      "photoUrl": "",
      "userId": "09055652442033376174"
     },
     "user_tz": 300
    },
    "id": "STi5BXWRmIVr",
    "outputId": "1f51aded-4e64-49c6-9c82-9ee969bf68ce"
   },
   "outputs": [
    {
     "name": "stdout",
     "output_type": "stream",
     "text": [
      "Collecting mne\n",
      "Collecting matplotlib\n",
      "  Using cached https://files.pythonhosted.org/packages/32/6b/0368cfa5e1d1ae169ab7dc78addda3fd5e6262e48d7373a9114bac7caff7/matplotlib-2.2.4-cp27-cp27mu-manylinux1_x86_64.whl\n",
      "Collecting numpy\n",
      "  Using cached https://files.pythonhosted.org/packages/d7/b1/3367ea1f372957f97a6752ec725b87886e12af1415216feec9067e31df70/numpy-1.16.5-cp27-cp27mu-manylinux1_x86_64.whl\n",
      "Collecting sklearn\n",
      "Collecting scipy>=0.17.1 (from mne)\n",
      "  Using cached https://files.pythonhosted.org/packages/1d/f6/7c16d60aeb3694e5611976cb4f1eaf1c6b7f1e7c55771d691013405a02ea/scipy-1.2.2-cp27-cp27mu-manylinux1_x86_64.whl\n",
      "Collecting cycler>=0.10 (from matplotlib)\n",
      "  Using cached https://files.pythonhosted.org/packages/f7/d2/e07d3ebb2bd7af696440ce7e754c59dd546ffe1bbe732c8ab68b9c834e61/cycler-0.10.0-py2.py3-none-any.whl\n",
      "Collecting backports.functools-lru-cache (from matplotlib)\n",
      "  Using cached https://files.pythonhosted.org/packages/da/d1/080d2bb13773803648281a49e3918f65b31b7beebf009887a529357fd44a/backports.functools_lru_cache-1.6.1-py2.py3-none-any.whl\n",
      "Collecting subprocess32 (from matplotlib)\n",
      "Collecting kiwisolver>=1.0.1 (from matplotlib)\n",
      "  Using cached https://files.pythonhosted.org/packages/3d/78/cb9248b2289ec31e301137cedbe4ca503a74ca87f88cdbfd2f8be52323bf/kiwisolver-1.1.0-cp27-cp27mu-manylinux1_x86_64.whl\n",
      "Collecting pytz (from matplotlib)\n",
      "  Using cached https://files.pythonhosted.org/packages/e7/f9/f0b53f88060247251bf481fa6ea62cd0d25bf1b11a87888e53ce5b7c8ad2/pytz-2019.3-py2.py3-none-any.whl\n",
      "Collecting six>=1.10 (from matplotlib)\n",
      "  Using cached https://files.pythonhosted.org/packages/65/26/32b8464df2a97e6dd1b656ed26b2c194606c16fe163c695a992b36c11cdf/six-1.13.0-py2.py3-none-any.whl\n",
      "Collecting python-dateutil>=2.1 (from matplotlib)\n",
      "  Using cached https://files.pythonhosted.org/packages/d4/70/d60450c3dd48ef87586924207ae8907090de0b306af2bce5d134d78615cb/python_dateutil-2.8.1-py2.py3-none-any.whl\n",
      "Collecting pyparsing!=2.0.4,!=2.1.2,!=2.1.6,>=2.0.1 (from matplotlib)\n",
      "  Using cached https://files.pythonhosted.org/packages/c0/0c/fc2e007d9a992d997f04a80125b0f183da7fb554f1de701bbb70a8e7d479/pyparsing-2.4.5-py2.py3-none-any.whl\n",
      "Collecting scikit-learn (from sklearn)\n",
      "  Using cached https://files.pythonhosted.org/packages/31/9f/042db462417451e81035c3d43b722e88450c628a33dfda69777a801b0d40/scikit_learn-0.20.4-cp27-cp27mu-manylinux1_x86_64.whl\n",
      "Collecting setuptools (from kiwisolver>=1.0.1->matplotlib)\n",
      "  Using cached https://files.pythonhosted.org/packages/d9/de/554b6310ac87c5b921bc45634b07b11394fe63bc4cb5176f5240addf18ab/setuptools-41.6.0-py2.py3-none-any.whl\n",
      "Installing collected packages: numpy, scipy, mne, six, cycler, backports.functools-lru-cache, subprocess32, setuptools, kiwisolver, pytz, python-dateutil, pyparsing, matplotlib, scikit-learn, sklearn\n",
      "Successfully installed backports.functools-lru-cache-1.6.1 cycler-0.10.0 kiwisolver-1.1.0 matplotlib-2.2.4 mne-0.19.2 numpy-1.16.5 pyparsing-2.4.5 python-dateutil-2.8.1 pytz-2019.3 scikit-learn-0.20.4 scipy-1.2.2 setuptools-41.6.0 six-1.13.0 sklearn-0.0 subprocess32-3.5.4\n"
     ]
    }
   ],
   "source": [
    "%matplotlib inline\n",
    "!pip install mne matplotlib numpy sklearn"
   ]
  },
  {
   "cell_type": "markdown",
   "metadata": {
    "colab_type": "text",
    "id": "uOzMLkNufVWv"
   },
   "source": [
    "# Modèle de classification des stades du sommeil\n",
    "\n",
    "Les étapes de notre modèle sont suivantes:\n",
    "- Données:\n",
    "  - Sélectionner au hasard des epocs de 30 secondes pour une électrode pour un individu avec leur étiquette afin d'avoir lot de données d'**entraînement**, <s>de **test** (pour l'ajustement des paramètres du modèle)</s> et de **validation** (pour évaluer la qualité du modèle). \n",
    "- Preprocessing:\n",
    "  - Transformation dans le domaine fréquentiel de chaque epoc de 30 secondes\n",
    "  - <s>Réduction de la taille du jeu de données et amoindrir la multicolinéarité:\n",
    "    - Application de la PCA (ou SVD)</s>\n",
    "- Établir les amplitudes moyennes de chaque stade de sommeil dans le domaine fréquentiel.\n",
    "- Prédiction en se basant sur la distance euclidéenne dans le domaine fréquentiel des epocs. \n",
    "\n"
   ]
  },
  {
   "cell_type": "code",
   "execution_count": 90,
   "metadata": {
    "colab": {},
    "colab_type": "code",
    "id": "tm9pcTGEmUxP"
   },
   "outputs": [],
   "source": [
    "import numpy as np\n",
    "import random\n",
    "import matplotlib.pyplot as plt\n",
    "\n",
    "import mne\n",
    "from mne.datasets.sleep_physionet.age import fetch_data\n",
    "from mne.time_frequency import psd_welch\n",
    "\n",
    "from sklearn.ensemble import RandomForestClassifier\n",
    "from sklearn.preprocessing import FunctionTransformer\n",
    "from sklearn.metrics import accuracy_score, confusion_matrix, classification_report\n",
    "from sklearn.pipeline import make_pipeline\n",
    "from sklearn.linear_model import LogisticRegression"
   ]
  },
  {
   "cell_type": "markdown",
   "metadata": {
    "colab_type": "text",
    "id": "OLDX71aomQKp"
   },
   "source": [
    "## Données\n",
    "\n",
    "On fait d'abord l'acquisition des données de MNE, puis on sélectionne que les données qui nous intéressent, c'est-à-dire qu'un électrode de données EEG.\n",
    "\n",
    "Voir: https://mne.tools/stable/generated/mne.Epochs.html#mne.Epochs.equalize_event_counts"
   ]
  },
  {
   "cell_type": "code",
   "execution_count": 100,
   "metadata": {
    "colab": {
     "base_uri": "https://localhost:8080/",
     "height": 221
    },
    "colab_type": "code",
    "executionInfo": {
     "elapsed": 14030,
     "status": "ok",
     "timestamp": 1574455134705,
     "user": {
      "displayName": "Billytherat",
      "photoUrl": "",
      "userId": "09055652442033376174"
     },
     "user_tz": 300
    },
    "id": "tNnDYHn3e-tM",
    "outputId": "e2b05676-ee1d-4c60-8325-6150b973e247"
   },
   "outputs": [
    {
     "name": "stdout",
     "output_type": "stream",
     "text": [
      "Using default location ~/mne_data for PHYSIONET_SLEEP...\n",
      "[['/home/william/mne_data/physionet-sleep-data/SC4011E0-PSG.edf', '/home/william/mne_data/physionet-sleep-data/SC4011EH-Hypnogram.edf'], ['/home/william/mne_data/physionet-sleep-data/SC4012E0-PSG.edf', '/home/william/mne_data/physionet-sleep-data/SC4012EC-Hypnogram.edf'], ['/home/william/mne_data/physionet-sleep-data/SC4021E0-PSG.edf', '/home/william/mne_data/physionet-sleep-data/SC4021EH-Hypnogram.edf'], ['/home/william/mne_data/physionet-sleep-data/SC4022E0-PSG.edf', '/home/william/mne_data/physionet-sleep-data/SC4022EJ-Hypnogram.edf']]\n",
      "Extracting EDF parameters from /home/william/mne_data/physionet-sleep-data/SC4011E0-PSG.edf...\n",
      "EDF file detected\n",
      "Setting channel info structure...\n",
      "Creating raw.info structure...\n",
      "Reading 0 ... 8405999  =      0.000 ... 84059.990 secs...\n",
      "<RawEDF  |  SC4011E0-PSG.edf, n_channels x n_times : 7 x 8406000 (84060.0 sec), ~448.9 MB, data loaded>\n",
      "The corresponding file has 7 channels, has a low pass filter of 50 Hz and a sampling rate of 100 Hz.\n",
      "The channels are  ['EEG Fpz-Cz', 'EEG Pz-Oz', 'EOG horizontal', 'Resp oro-nasal', 'EMG submental', 'Temp rectal', 'Event marker']\n"
     ]
    }
   ],
   "source": [
    "SUBJECTS = [1,2]\n",
    "NIGHT_RECORDINGS = [1, 2]\n",
    "\n",
    "subject_files = fetch_data(subjects=SUBJECTS, recording=NIGHT_RECORDINGS)\n",
    "print(subject_files)\n",
    "raw_data = mne.io.read_raw_edf(subject_files[0][0], preload=True)\n",
    "print(raw_data)\n",
    "\n",
    "NUMBER_CHANNELS = raw_data.info[\"nchan\"]\n",
    "LOWPASS_FILTER = raw_data.info[\"lowpass\"]\n",
    "SAMPLING_FREQ = raw_data.info[\"sfreq\"]\n",
    "\n",
    "print(\"The corresponding file has %i channels, has a low pass filter of %i Hz and a sampling rate of %i Hz.\" % (NUMBER_CHANNELS, LOWPASS_FILTER, SAMPLING_FREQ))\n",
    "print(\"The channels are \", raw_data.info[\"ch_names\"])\n",
    "\n",
    "mapping = {'EEG Fpz-Cz': 'eeg',\n",
    "           'EEG Pz-Oz': 'eeg',\n",
    "           'EOG horizontal': 'eog',\n",
    "           'Resp oro-nasal': 'misc',\n",
    "           'EMG submental': 'misc',\n",
    "           'Temp rectal': 'misc',\n",
    "           'Event marker': 'misc'}\n",
    "\n",
    "raw_data.set_channel_types(mapping)"
   ]
  },
  {
   "cell_type": "code",
   "execution_count": 101,
   "metadata": {
    "colab": {
     "base_uri": "https://localhost:8080/",
     "height": 910
    },
    "colab_type": "code",
    "executionInfo": {
     "elapsed": 15830,
     "status": "ok",
     "timestamp": 1574455136520,
     "user": {
      "displayName": "Billytherat",
      "photoUrl": "",
      "userId": "09055652442033376174"
     },
     "user_tz": 300
    },
    "id": "GIOIbwpgpyGu",
    "outputId": "da3e618c-4a64-42b2-b18d-d8a60be99a14"
   },
   "outputs": [
    {
     "name": "stdout",
     "output_type": "stream",
     "text": [
      "Effective window size : 20.480 (s)\n"
     ]
    },
    {
     "name": "stderr",
     "output_type": "stream",
     "text": [
      "<ipython-input-101-744517681650>:4: RuntimeWarning: Channel locations not available. Disabling spatial colors.\n",
      "  raw_data.plot_psd(fmax=LOWPASS_FILTER)\n"
     ]
    },
    {
     "data": {
      "image/png": "[encoded data removed]",
      "text/plain": [
       "<Figure size 432x288 with 1 Axes>"
      ]
     },
     "metadata": {
      "needs_background": "light"
     },
     "output_type": "display_data"
    },
    {
     "data": {
      "image/png": "[encoded data removed]",
      "text/plain": [
       "<Figure size 432x288 with 4 Axes>"
      ]
     },
     "metadata": {},
     "output_type": "display_data"
    },
    {
     "data": {
      "image/png": "[encoded data removed]",
      "text/plain": [
       "<Figure size 432x288 with 4 Axes>"
      ]
     },
     "execution_count": 101,
     "metadata": {},
     "output_type": "execute_result"
    }
   ],
   "source": [
    "if raw_data.info[\"nchan\"] != 3:\n",
    "  raw_data.drop_channels(['Resp oro-nasal', 'EMG submental', 'Temp rectal', 'Event marker'])\n",
    "\n",
    "raw_data.plot_psd(fmax=LOWPASS_FILTER)\n",
    "raw_data.plot(duration=10)"
   ]
  },
  {
   "cell_type": "markdown",
   "metadata": {
    "colab_type": "text",
    "id": "prFvCyOnKHuf"
   },
   "source": [
    "### Affichage de la classification des epochs\n",
    "\n",
    "Ajout des annotations des données aux données brutes et visualisation de celles-ci. On crée ensuite une liste d'`Epoch`, classe sur laquelle on peut appliquer de nombreuses opérations dans la librairie de MNE."
   ]
  },
  {
   "cell_type": "code",
   "execution_count": 102,
   "metadata": {
    "colab": {
     "base_uri": "https://localhost:8080/",
     "height": 297
    },
    "colab_type": "code",
    "executionInfo": {
     "elapsed": 15992,
     "status": "ok",
     "timestamp": 1574455136705,
     "user": {
      "displayName": "Billytherat",
      "photoUrl": "",
      "userId": "09055652442033376174"
     },
     "user_tz": 300
    },
    "id": "hl30oMENxJGE",
    "outputId": "3fc5c8bf-eda5-4f47-fb9d-594e56ff0fd7"
   },
   "outputs": [
    {
     "name": "stdout",
     "output_type": "stream",
     "text": [
      "Used Annotations descriptions: ['Sleep stage 1', 'Sleep stage 2', 'Sleep stage 3', 'Sleep stage 4', 'Sleep stage R', 'Sleep stage W']\n"
     ]
    },
    {
     "data": {
      "image/png": "[encoded data removed]",
      "text/plain": [
       "<Figure size 432x288 with 1 Axes>"
      ]
     },
     "metadata": {
      "needs_background": "light"
     },
     "output_type": "display_data"
    }
   ],
   "source": [
    "EPOCH_DURATION = 30. # in seconds\n",
    "\n",
    "subject1_annotations = mne.read_annotations(subject_files[0][1])\n",
    "raw_data.set_annotations(subject1_annotations, emit_warning=False)\n",
    "\n",
    "annotation_desc_2_event_id = {'Sleep stage W': 1,\n",
    "                              'Sleep stage 1': 2,\n",
    "                              'Sleep stage 2': 3,\n",
    "                              'Sleep stage 3': 4,\n",
    "                              'Sleep stage 4': 4,\n",
    "                              'Sleep stage R': 5}\n",
    "\n",
    "events_train, _ = mne.events_from_annotations(\n",
    "    raw_data, event_id=annotation_desc_2_event_id, chunk_duration=EPOCH_DURATION)\n",
    "\n",
    "event_id = {'Sleep stage W': 1,\n",
    "            'Sleep stage 1': 2,\n",
    "            'Sleep stage 2': 3,\n",
    "            'Sleep stage 3/4': 4,\n",
    "            'Sleep stage R': 5}\n",
    "\n",
    "# plot events\n",
    "mne.viz.plot_events(events_train, event_id=event_id,\n",
    "                    sfreq=SAMPLING_FREQ)\n",
    "\n",
    "# keep the color-code for further plotting\n",
    "stage_colors = plt.rcParams['axes.prop_cycle'].by_key()['color']"
   ]
  },
  {
   "cell_type": "code",
   "execution_count": 103,
   "metadata": {
    "colab": {
     "base_uri": "https://localhost:8080/",
     "height": 201
    },
    "colab_type": "code",
    "executionInfo": {
     "elapsed": 16040,
     "status": "ok",
     "timestamp": 1574455136777,
     "user": {
      "displayName": "Billytherat",
      "photoUrl": "",
      "userId": "09055652442033376174"
     },
     "user_tz": 300
    },
    "id": "142YYT3aydkA",
    "outputId": "02cae50f-19de-449b-a29f-a73ebd2efb54"
   },
   "outputs": [
    {
     "name": "stdout",
     "output_type": "stream",
     "text": [
      "2802 matching events found\n",
      "No baseline correction applied\n",
      "Not setting metadata\n",
      "0 projection items activated\n",
      "<Epochs  |   2802 events (good & bad), 0 - 29.99 sec, baseline off, ~11 kB, data not loaded,\n",
      " 'Sleep stage 1': 109\n",
      " 'Sleep stage 2': 562\n",
      " 'Sleep stage 3/4': 105\n",
      " 'Sleep stage R': 170\n",
      " 'Sleep stage W': 1856>\n"
     ]
    }
   ],
   "source": [
    "# We want to get all the data within a [0, 30[ seconds interval period.\n",
    "tmax = 30. - 1. / raw_data.info['sfreq']  # tmax in included\n",
    "\n",
    "epochs_train = mne.Epochs(raw=raw_data, events=events_train,\n",
    "                          event_id=event_id, tmin=0., tmax=tmax, baseline=None)\n",
    "\n",
    "print(epochs_train)"
   ]
  },
  {
   "cell_type": "markdown",
   "metadata": {
    "colab_type": "text",
    "id": "7C_YwiL_L4Rn"
   },
   "source": [
    "### Fonction récapitulative pour l'extraction de données\n",
    "\n",
    "De ce qui précède, une fonction qui permet d'accéder aux informations importantes et aux données nécessaires au traitement à partir un enregistrement suit."
   ]
  },
  {
   "cell_type": "code",
   "execution_count": 104,
   "metadata": {
    "colab": {},
    "colab_type": "code",
    "id": "H77vzY0YoBnP"
   },
   "outputs": [],
   "source": [
    "CHANNELS = {\n",
    "  'EEG Fpz-Cz': 'EEG Fpz-Cz',\n",
    "  'EEG Pz-Oz': 'EEG Pz-Oz',\n",
    "  'EOG horizontal': 'EOG horizontal',\n",
    "  'Resp oro-nasal': 'Resp oro-nasal',\n",
    "  'EMG submental': 'EMG submental',\n",
    "  'Temp rectal': 'Temp rectal',\n",
    "  'Event marker': 'Event marker'\n",
    "}\n",
    "\n",
    "MAPPING = {\n",
    "  CHANNELS['EEG Fpz-Cz']: 'eeg',\n",
    "  CHANNELS['EEG Pz-Oz']: 'eeg',\n",
    "  CHANNELS['EOG horizontal']: 'eog',\n",
    "  CHANNELS['Resp oro-nasal']: 'misc',\n",
    "  CHANNELS['EMG submental']: 'misc',\n",
    "  CHANNELS['Temp rectal']: 'misc',\n",
    "  CHANNELS['Event marker']: 'misc'\n",
    "}\n",
    "\n",
    "ANNOTATIONS_EVENT_ID = {\n",
    "  'Sleep stage W': 1,\n",
    "  'Sleep stage 1': 2,\n",
    "  'Sleep stage 2': 3,\n",
    "  'Sleep stage 3': 4,\n",
    "  'Sleep stage 4': 4,\n",
    "  'Sleep stage R': 5\n",
    "}\n",
    "\n",
    "EVENT_ID = {\n",
    "  'Sleep stage W': 1,\n",
    "  'Sleep stage 1': 2,\n",
    "  'Sleep stage 2': 3,\n",
    "  'Sleep stage 3/4': 4,\n",
    "  'Sleep stage R': 5\n",
    "}\n",
    "\n",
    "\n",
    "def retrieve_raw(subject=0, night=1):\n",
    "    subject_file = fetch_data(subjects=[subject], recording=[night])\n",
    "    raw_data = mne.io.read_raw_edf(subject_file[0][0], preload=True)\n",
    "    raw_data.set_channel_types(MAPPING)\n",
    "    raw_data.drop_channels([dropped_chan for dropped_chan in CHANNELS.values() if dropped_chan is not(CHANNELS['EEG Fpz-Cz'] or CHANNELS['EEG Pz-Oz'])])\n",
    "\n",
    "    annotations = mne.read_annotations(subject_file[0][1])\n",
    "    raw_data.set_annotations(annotations, emit_warning=False)\n",
    "\n",
    "    return raw_data\n",
    "\n",
    "\n",
    "def create_epochs(raw_data, epoch_duration=30, equalize_event=False):\n",
    "    events, _ = mne.events_from_annotations(raw_data, event_id=ANNOTATIONS_EVENT_ID, chunk_duration=epoch_duration)\n",
    "    tmax = 30. - 1. / raw_data.info['sfreq']  # tmax in included\n",
    "    epochs = mne.Epochs(raw=raw_data, events=events, event_id=event_id, tmin=0., tmax=tmax, baseline=None)\n",
    "    epochs.drop_bad()\n",
    "    return epochs.equalize_event_counts(EVENT_ID.keys())[0] if equalize_event else epochs\n"
   ]
  },
  {
   "cell_type": "code",
   "execution_count": 122,
   "metadata": {
    "colab": {},
    "colab_type": "code",
    "id": "IqyGFYyszkCf"
   },
   "outputs": [],
   "source": [
    "def eeg_power_band(epochs):\n",
    "    \"\"\"EEG relative power band feature extraction.\n",
    "\n",
    "    This function takes an ``mne.Epochs`` object and creates EEG features based\n",
    "    on relative power in specific frequency bands that are compatible with\n",
    "    scikit-learn.\n",
    "\n",
    "    Parameters\n",
    "    ----------\n",
    "    epochs : Epochs\n",
    "        The data.\n",
    "\n",
    "    Returns\n",
    "    -------\n",
    "    X : numpy array of shape [n_samples, 5]\n",
    "        Transformed data.\n",
    "    \"\"\"\n",
    "    # specific frequency bands\n",
    "    FREQ_BANDS = {\"delta\": [0.5, 4.5],\n",
    "                  \"theta\": [4.5, 8.5],\n",
    "                  \"alpha\": [8.5, 11.5],\n",
    "                  \"sigma\": [11.5, 15.5],\n",
    "                  \"beta\": [15.5, 30]}\n",
    "\n",
    "    psds, freqs = psd_welch(epochs, picks='eeg', fmin=0.5, fmax=30.)\n",
    "    # Normalize the PSDs\n",
    "    psds /= np.sum(psds, axis=-1, keepdims=True)\n",
    "\n",
    "    X = []\n",
    "    # for i in np.arange(0.5, 30, 0.5):\n",
    "    #     psds_band = psds[:, :, (freqs >= i) & (freqs < i+0.5)].mean(axis=-1)\n",
    "    #     X.append(psds_band.reshape(len(psds), -1))\n",
    "\n",
    "    for fmin, fmax in FREQ_BANDS.values():\n",
    "        psds_band = psds[:, :, (freqs >= fmin) & (freqs < fmax)].mean(axis=-1)\n",
    "        X.append(psds_band.reshape(len(psds), -1))\n",
    "\n",
    "    return np.concatenate(X, axis=1)"
   ]
  },
  {
   "cell_type": "markdown",
   "metadata": {
    "colab_type": "text",
    "id": "QddbDql008Dy"
   },
   "source": [
    "# Classification\n",
    "\n",
    "Ensuite, nous allons tenter de faire la classification des ondes du sommeil à l'aide d'un random forest pour les deux situations suivantes:\n",
    "\n",
    "1. Les epochs d'entrainement pour chaque classe sont prises au hasard parmis tous les sujets et les epochs de validation sont aussi prises au hasard parmis tous les sujets. L'entrainement est donc effectué sur des sujets qui tenteront de valider leurs données.\n",
    "\n",
    "2. Les epochs d'entrainement proviennent de sujet qui ne sont pas les mêmes que ceux pour lesquels nous tenterons de prédire les données du sommeil (epochs de validation proviennent de sujet différents).\n",
    "\n",
    "Pour commencer, nous prendrons un **nombre égal d'epoch pour chaque classe**. 80% des epochs seront utilisées pour l'entrainement et 20% pour la validation."
   ]
  },
  {
   "cell_type": "code",
   "execution_count": 123,
   "metadata": {
    "colab": {},
    "colab_type": "code",
    "id": "Jp0m_iMp2bUG"
   },
   "outputs": [],
   "source": [
    "# Fonction qui imite train_test_split de sklearn, mais qui permet de toujours conserver les objets Epochs à la place d'utiliser de convertir celles-ci vers des array.\n",
    "# Cela allège considérablement le code.\n",
    "\n",
    "def create_sets(epochs, training_set=0.70, test_set=0.15, validation_set=0.15):\n",
    "    \"\"\" Randomly splits epochs in different sets \"\"\"\n",
    "    if (training_set + test_set + validation_set) != 1:\n",
    "        raise Exception(\"Percentages invalid\")\n",
    "\n",
    "    TRAINING_EPOCHS_LEN = int(training_set*len(epochs))\n",
    "    TEST_EPOCHS_LEN = int((test_set)*len(epochs))\n",
    "    training_epochs = []\n",
    "    test_epochs = []\n",
    "    validation_epochs = []\n",
    "\n",
    "    size = len(epochs)\n",
    "    while size:\n",
    "        index = random.randrange(size)\n",
    "        epoch = epochs[index]\n",
    "        epochs.drop(index, verbose=False)\n",
    "        size -= 1\n",
    "\n",
    "        if size < TRAINING_EPOCHS_LEN:\n",
    "            training_epochs.append(epoch)\n",
    "        elif size < TRAINING_EPOCHS_LEN + TEST_EPOCHS_LEN:\n",
    "            test_epochs.append(epoch)\n",
    "        else:\n",
    "            validation_epochs.append(epoch)\n",
    "\n",
    "    return {\n",
    "        \"TRAINING\" : mne.concatenate_epochs(training_epochs) if len(training_epochs) else None,\n",
    "        \"TEST\": mne.concatenate_epochs(test_epochs) if len(test_epochs) else None,\n",
    "        \"VALIDATION\": mne.concatenate_epochs(validation_epochs) if len(validation_epochs) else None\n",
    "    }\n",
    "\n",
    "# Voir https://scikit-learn.org/stable/modules/generated/sklearn.model_selection.train_test_split.html si on ne fait que concaténer toutes les epochs dans un même array."
   ]
  },
  {
   "cell_type": "code",
   "execution_count": 124,
   "metadata": {
    "colab": {
     "base_uri": "https://localhost:8080/",
     "height": 348
    },
    "colab_type": "code",
    "executionInfo": {
     "elapsed": 40186,
     "status": "ok",
     "timestamp": 1572470920303,
     "user": {
      "displayName": "Billytherat",
      "photoUrl": "",
      "userId": "09055652442033376174"
     },
     "user_tz": 240
    },
    "id": "tZgq5p5QR0m3",
    "outputId": "1d0610cf-a898-4f18-e50d-9e7b50b26e39"
   },
   "outputs": [
    {
     "name": "stdout",
     "output_type": "stream",
     "text": [
      "Using default location ~/mne_data for PHYSIONET_SLEEP...\n",
      "Extracting EDF parameters from /home/william/mne_data/physionet-sleep-data/SC4001E0-PSG.edf...\n",
      "EDF file detected\n",
      "Setting channel info structure...\n",
      "Creating raw.info structure...\n",
      "Reading 0 ... 7949999  =      0.000 ... 79499.990 secs...\n",
      "Used Annotations descriptions: ['Sleep stage 1', 'Sleep stage 2', 'Sleep stage 3', 'Sleep stage 4', 'Sleep stage R', 'Sleep stage W']\n",
      "2650 matching events found\n",
      "No baseline correction applied\n",
      "Not setting metadata\n",
      "0 projection items activated\n",
      "Loading data for 2650 events and 3000 original time points ...\n",
      "0 bad epochs dropped\n",
      "Dropped 2360 epochs\n",
      "Loading data for 290 events and 3000 original time points ...\n",
      "290 matching events found\n",
      "No baseline correction applied\n",
      "Not setting metadata\n",
      "0 bad epochs dropped\n",
      "232 matching events found\n",
      "No baseline correction applied\n",
      "Not setting metadata\n",
      "0 bad epochs dropped\n",
      "58 matching events found\n",
      "No baseline correction applied\n",
      "Not setting metadata\n",
      "0 bad epochs dropped\n",
      "{'TRAINING': <Epochs  |   232 events (all good), 0 - 29.99 sec, baseline off, ~5.3 MB, data loaded,\n",
      " 'Sleep stage 1': 44\n",
      " 'Sleep stage 2': 45\n",
      " 'Sleep stage 3/4': 46\n",
      " 'Sleep stage R': 49\n",
      " 'Sleep stage W': 48>, 'TEST': None, 'VALIDATION': <Epochs  |   58 events (all good), 0 - 29.99 sec, baseline off, ~1.3 MB, data loaded,\n",
      " 'Sleep stage 1': 14\n",
      " 'Sleep stage 2': 13\n",
      " 'Sleep stage 3/4': 12\n",
      " 'Sleep stage R': 9\n",
      " 'Sleep stage W': 10>}\n"
     ]
    }
   ],
   "source": [
    "SUBJECTS = 1\n",
    "epochs = mne.concatenate_epochs([create_epochs(retrieve_raw(subject,1), equalize_event=True) for subject in range(SUBJECTS)])\n",
    "sets = create_sets(epochs, training_set=0.80, test_set=0.0, validation_set=0.2)\n",
    "print(sets)"
   ]
  },
  {
   "cell_type": "code",
   "execution_count": 125,
   "metadata": {
    "colab": {},
    "colab_type": "code",
    "id": "wQc67abrHvuw"
   },
   "outputs": [
    {
     "name": "stdout",
     "output_type": "stream",
     "text": [
      "Effective window size : 2.560 (s)\n",
      "Effective window size : 2.560 (s)\n",
      "Accuracy score: 0.6896551724137931\n"
     ]
    }
   ],
   "source": [
    "pipe = make_pipeline(FunctionTransformer(eeg_power_band, validate=False),\n",
    "                     RandomForestClassifier(n_estimators=100, random_state=42))\n",
    "\n",
    "# Training\n",
    "y_train = sets['TRAINING'].events[:, 2]\n",
    "pipe.fit(sets['TRAINING'], y_train)\n",
    "\n",
    "# Test\n",
    "y_pred = pipe.predict(sets['VALIDATION'])\n",
    "\n",
    "# Assess the results\n",
    "y_test = sets['VALIDATION'].events[:, 2]\n",
    "\n",
    "acc = accuracy_score(y_test, y_pred)\n",
    "\n",
    "print(\"Accuracy score: {}\".format(acc))\n"
   ]
  },
  {
   "cell_type": "code",
   "execution_count": 126,
   "metadata": {
    "colab": {},
    "colab_type": "code",
    "id": "vcmfs8GrQUMs"
   },
   "outputs": [
    {
     "name": "stdout",
     "output_type": "stream",
     "text": [
      "[[ 7  1  1  0  1]\n",
      " [ 4  6  2  0  2]\n",
      " [ 0  0 12  1  0]\n",
      " [ 1  0  2  9  0]\n",
      " [ 0  2  1  0  6]]\n"
     ]
    }
   ],
   "source": [
    "print(confusion_matrix(y_test, y_pred))"
   ]
  },
  {
   "cell_type": "code",
   "execution_count": 127,
   "metadata": {
    "colab": {},
    "colab_type": "code",
    "id": "_hamQ8IEQlYj"
   },
   "outputs": [
    {
     "name": "stdout",
     "output_type": "stream",
     "text": [
      "                 precision    recall  f1-score   support\n",
      "\n",
      "  Sleep stage W       0.58      0.70      0.64        10\n",
      "  Sleep stage 1       0.67      0.43      0.52        14\n",
      "  Sleep stage 2       0.67      0.92      0.77        13\n",
      "Sleep stage 3/4       0.90      0.75      0.82        12\n",
      "  Sleep stage R       0.67      0.67      0.67         9\n",
      "\n",
      "       accuracy                           0.69        58\n",
      "      macro avg       0.70      0.69      0.68        58\n",
      "   weighted avg       0.70      0.69      0.68        58\n",
      "\n"
     ]
    }
   ],
   "source": [
    "print(classification_report(y_test, y_pred, target_names=event_id.keys()))"
   ]
  },
  {
   "cell_type": "markdown",
   "metadata": {
    "colab_type": "text",
    "id": "GIsKsLB1CCX0"
   },
   "source": [
    "# Régression Logistique"
   ]
  },
  {
   "cell_type": "code",
   "execution_count": 128,
   "metadata": {
    "colab": {},
    "colab_type": "code",
    "id": "WfBUltEiB-CR"
   },
   "outputs": [
    {
     "name": "stdout",
     "output_type": "stream",
     "text": [
      "Effective window size : 2.560 (s)\n",
      "Effective window size : 2.560 (s)\n",
      "Effective window size : 2.560 (s)\n",
      "Accuracy score: 0.4482758620689655\n"
     ]
    },
    {
     "name": "stderr",
     "output_type": "stream",
     "text": [
      "/home/william/.local/lib/python3.6/site-packages/sklearn/linear_model/logistic.py:947: ConvergenceWarning: lbfgs failed to converge. Increase the number of iterations.\n",
      "  \"of iterations.\", ConvergenceWarning)\n"
     ]
    }
   ],
   "source": [
    "pipe = make_pipeline(FunctionTransformer(eeg_power_band, validate=False),\n",
    "                     LogisticRegression(C=1e6, solver='lbfgs', multi_class='multinomial'))\n",
    "\n",
    "# Training\n",
    "y_train = sets['TRAINING'].events[:, 2]\n",
    "y_proba = pipe.fit(sets['TRAINING'], y_train).predict_proba(sets['VALIDATION'])\n",
    "\n",
    "# Test\n",
    "y_pred = pipe.predict(sets['VALIDATION'])\n",
    "\n",
    "# Assess the results\n",
    "y_test = sets['VALIDATION'].events[:, 2]\n",
    "\n",
    "acc = accuracy_score(y_test, y_pred)\n",
    "\n",
    "print(\"Accuracy score: {}\".format(acc))\n"
   ]
  },
  {
   "cell_type": "code",
   "execution_count": 129,
   "metadata": {
    "colab": {},
    "colab_type": "code",
    "id": "kzutCizFB_h8"
   },
   "outputs": [
    {
     "name": "stdout",
     "output_type": "stream",
     "text": [
      "[[2 2 3 2 1]\n",
      " [7 2 1 1 3]\n",
      " [0 0 8 2 3]\n",
      " [0 0 3 9 0]\n",
      " [2 2 0 0 5]]\n"
     ]
    }
   ],
   "source": [
    "print(confusion_matrix(y_test, y_pred))"
   ]
  },
  {
   "cell_type": "code",
   "execution_count": 130,
   "metadata": {
    "colab": {},
    "colab_type": "code",
    "id": "DJSl09pnB_xg"
   },
   "outputs": [
    {
     "name": "stdout",
     "output_type": "stream",
     "text": [
      "                 precision    recall  f1-score   support\n",
      "\n",
      "  Sleep stage W       0.18      0.20      0.19        10\n",
      "  Sleep stage 1       0.33      0.14      0.20        14\n",
      "  Sleep stage 2       0.53      0.62      0.57        13\n",
      "Sleep stage 3/4       0.64      0.75      0.69        12\n",
      "  Sleep stage R       0.42      0.56      0.48         9\n",
      "\n",
      "       accuracy                           0.45        58\n",
      "      macro avg       0.42      0.45      0.43        58\n",
      "   weighted avg       0.43      0.45      0.43        58\n",
      "\n"
     ]
    }
   ],
   "source": [
    "print(classification_report(y_test, y_pred, target_names=event_id.keys()))"
   ]
  },
  {
   "cell_type": "markdown",
   "metadata": {
    "colab_type": "text",
    "id": "3JzjUZvccpyP"
   },
   "source": [
    "# Références\n",
    "\n",
    "Goldberger AL, Amaral LAN, Glass L, Hausdorff JM, Ivanov PCh, Mark RG, Mietus JE, Moody GB, Peng C-K, Stanley HE. PhysioBank, PhysioToolkit, and PhysioNet: Components of a New Research Resource for Complex Physiologic Signals. Circulation 101(23):e215-e220 [Circulation Electronic Pages; http://circ.ahajournals.org/cgi/content/full/101/23/e215]; 2000 (June 13)."
   ]
  },
  {
   "cell_type": "code",
   "execution_count": null,
   "metadata": {
    "colab": {},
    "colab_type": "code",
    "id": "1WoBsY3Cct7_"
   },
   "outputs": [],
   "source": []
  }
 ],
 "metadata": {
  "accelerator": "GPU",
  "colab": {
   "collapsed_sections": [],
   "name": "random_forest_physionet.ipynb",
   "provenance": []
  },
  "kernelspec": {
   "display_name": "Python 3",
   "language": "python",
   "name": "python3"
  },
  "language_info": {
   "codemirror_mode": {
    "name": "ipython",
    "version": 3
   },
   "file_extension": ".py",
   "mimetype": "text/x-python",
   "name": "python",
   "nbconvert_exporter": "python",
   "pygments_lexer": "ipython3",
   "version": "3.6.8"
  }
 },
 "nbformat": 4,
 "nbformat_minor": 4
}
