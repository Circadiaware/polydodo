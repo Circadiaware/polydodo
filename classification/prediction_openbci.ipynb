{
 "cells": [
  {
   "cell_type": "markdown",
   "metadata": {},
   "source": [
    "# Prediction on OpenBCI data\n",
    "___"
   ]
  },
  {
   "cell_type": "code",
   "execution_count": null,
   "metadata": {},
   "outputs": [],
   "source": [
    "%load_ext autoreload\n",
    "%autoreload 2\n",
    "%matplotlib inline\n",
    "\n",
    "import matplotlib.pyplot as plt\n",
    "import joblib\n",
    "import numpy as np\n",
    "\n",
    "from sklearn.metrics import (accuracy_score,\n",
    "                             confusion_matrix,\n",
    "                             plot_confusion_matrix,\n",
    "                             classification_report,\n",
    "                             f1_score,\n",
    "                             cohen_kappa_score,\n",
    "                             log_loss)\n",
    "\n",
    "from scipy.signal import medfilt\n",
    "\n",
    "from hmmlearn.hmm import MultinomialHMM\n",
    "from constants import (SLEEP_STAGES_VALUES, N_STAGES, EPOCH_DURATION)\n",
    "from models.model_utils import print_hypnogram"
   ]
  },
  {
   "cell_type": "code",
   "execution_count": null,
   "metadata": {},
   "outputs": [],
   "source": [
    "USE_CONTINUOUS = False\n",
    "\n",
    "if USE_CONTINUOUS:\n",
    "    X = np.load(\"./data/X_openbci-age-continuous.npy\", allow_pickle=True)\n",
    "    y = np.load(\"./data/y_openbci-age-continuous.npy\", allow_pickle=True)\n",
    "else:  \n",
    "    X = np.load(\"data/X_openbci.npy\", allow_pickle=True)\n",
    "    y = np.load(\"data/y_openbci.npy\", allow_pickle=True)\n",
    "\n",
    "X = np.vstack(X)\n",
    "y = np.hstack(y)\n",
    "\n",
    "print(X.shape)\n",
    "print(y.shape)"
   ]
  },
  {
   "cell_type": "code",
   "execution_count": null,
   "metadata": {},
   "outputs": [],
   "source": [
    "print(X[:,1])"
   ]
  },
  {
   "cell_type": "markdown",
   "metadata": {},
   "source": [
    "## Load classifier\n",
    "___"
   ]
  },
  {
   "cell_type": "code",
   "execution_count": null,
   "metadata": {},
   "outputs": [],
   "source": [
    "MODELS_DIR = \"trained_model\"\n",
    "\n",
    "if USE_CONTINUOUS:\n",
    "    classifier = joblib.load(f\"{MODELS_DIR}/classifier_RF_continous_age.joblib\")\n",
    "else:\n",
    "    classifier = joblib.load(f\"{MODELS_DIR}/classifier_RF.joblib\")\n"
   ]
  },
  {
   "cell_type": "markdown",
   "metadata": {},
   "source": [
    "## Prediction\n",
    "___"
   ]
  },
  {
   "cell_type": "code",
   "execution_count": null,
   "metadata": {},
   "outputs": [],
   "source": [
    "%%time\n",
    "\n",
    "y_pred = classifier.predict(X)"
   ]
  },
  {
   "cell_type": "code",
   "execution_count": null,
   "metadata": {},
   "outputs": [],
   "source": [
    "print(confusion_matrix(y, y_pred))\n",
    "\n",
    "print(classification_report(y, y_pred, target_names=SLEEP_STAGES_VALUES.keys()))\n",
    "\n",
    "print(\"Agreement score (Cohen Kappa): \", cohen_kappa_score(y, y_pred))"
   ]
  },
  {
   "cell_type": "code",
   "execution_count": null,
   "metadata": {},
   "outputs": [],
   "source": [
    "plt.rcParams[\"figure.figsize\"] = (20,5)\n",
    "print_hypnogram([y_pred, y], labels=[\"Classifier\", \"Alexandra\"], subject=0, night=0)"
   ]
  },
  {
   "cell_type": "markdown",
   "metadata": {},
   "source": [
    "## Results from models\n",
    "____\n",
    "\n",
    "### 1. RF\n",
    "____\n",
    "\n",
    "#### a) Not tuned\n",
    "Hyperparameters configuration: `(n_estimators=100, others=default)`\n",
    "\n",
    "```\n",
    "              precision    recall  f1-score   support\n",
    "\n",
    "           W       0.90      0.95      0.92       379\n",
    "          N1       0.00      0.00      0.00        58\n",
    "          N2       0.78      0.77      0.78       353\n",
    "          N3       0.76      0.95      0.85       242\n",
    "         REM       0.79      0.72      0.75       200\n",
    "\n",
    "    accuracy                           0.82      1232\n",
    "   macro avg       0.65      0.68      0.66      1232\n",
    "weighted avg       0.78      0.82      0.80      1232\n",
    "\n",
    "Agreement score (Cohen Kappa):  0.7545615539827596\n",
    "```\n",
    "\n",
    "#### b) Tuned version 1\n",
    "____\n",
    "\n",
    "Hyperparameters configuration: `(n_estimators=592, others=default)`\n",
    "\n",
    "```\n",
    "               precision    recall  f1-score   support\n",
    "\n",
    "           W       0.90      0.95      0.92       379\n",
    "          N1       0.00      0.00      0.00        58\n",
    "          N2       0.76      0.76      0.76       353\n",
    "          N3       0.76      0.95      0.85       242\n",
    "         REM       0.79      0.69      0.74       200\n",
    "\n",
    "    accuracy                           0.81      1232\n",
    "   macro avg       0.64      0.67      0.65      1232\n",
    "weighted avg       0.77      0.81      0.79      1232\n",
    "\n",
    "Agreement score (Cohen Kappa):  0.743444308164724\n",
    "\n",
    "\n",
    "```\n",
    "\n",
    "#### c) Tuned version 2\n",
    "___\n",
    "\n",
    "Hyperparameters configuration: `(n_estimators=592, max_depth=24, others=default)`\n",
    "\n",
    "```\n",
    "              precision    recall  f1-score   support\n",
    "\n",
    "           W       0.90      0.94      0.92       379\n",
    "          N1       0.00      0.00      0.00        58\n",
    "          N2       0.73      0.75      0.74       353\n",
    "          N3       0.75      0.95      0.84       242\n",
    "         REM       0.77      0.66      0.71       200\n",
    "\n",
    "    accuracy                           0.80      1232\n",
    "   macro avg       0.63      0.66      0.64      1232\n",
    "weighted avg       0.76      0.80      0.77      1232\n",
    "\n",
    "Agreement score (Cohen Kappa):  0.725949621846069\n",
    "```"
   ]
  },
  {
   "cell_type": "markdown",
   "metadata": {},
   "source": [
    "## Median filter\n",
    "___"
   ]
  },
  {
   "cell_type": "code",
   "execution_count": null,
   "metadata": {},
   "outputs": [],
   "source": [
    "KERNEL_SIZE=3\n",
    "\n",
    "y_medfilt_pred = medfilt(y_pred, kernel_size=KERNEL_SIZE)"
   ]
  },
  {
   "cell_type": "code",
   "execution_count": null,
   "metadata": {},
   "outputs": [],
   "source": [
    "print(confusion_matrix(y, y_medfilt_pred))\n",
    "\n",
    "print(classification_report(y, y_medfilt_pred, target_names=SLEEP_STAGES_VALUES.keys()))\n",
    "\n",
    "print(\"Agreement score (Cohen Kappa): \", cohen_kappa_score(y, y_medfilt_pred))\n",
    "\n",
    "print_hypnogram([y_medfilt_pred, y], labels=[ \"Classifier (Medfilter)\", \"Alexandra\"], subject=0, night=0)"
   ]
  },
  {
   "cell_type": "markdown",
   "metadata": {},
   "source": [
    "## Hidden Markov Model\n",
    "___"
   ]
  },
  {
   "cell_type": "code",
   "execution_count": null,
   "metadata": {},
   "outputs": [],
   "source": [
    "hmm_model = MultinomialHMM(n_components=N_STAGES)\n",
    "\n",
    "\n",
    "hmm_model.emissionprob_ = np.load(f\"{MODELS_DIR}/HMM_emissionprob.npy\", allow_pickle=True)\n",
    "hmm_model.startprob_ = np.load(f\"{MODELS_DIR}/HMM_startprob.npy\", allow_pickle=True)\n",
    "hmm_model.transmat_ = np.load(f\"{MODELS_DIR}/HMM_transmat.npy\", allow_pickle=True)\n",
    "\n",
    "y_hmm_pred = hmm_model.predict(y_pred.reshape(-1, 1))"
   ]
  },
  {
   "cell_type": "code",
   "execution_count": null,
   "metadata": {},
   "outputs": [],
   "source": [
    "print(confusion_matrix(y, y_hmm_pred))\n",
    "\n",
    "print(classification_report(y, y_hmm_pred, target_names=SLEEP_STAGES_VALUES.keys()))\n",
    "\n",
    "print(\"Agreement score (Cohen Kappa): \", cohen_kappa_score(y, y_hmm_pred))\n",
    "\n",
    "print_hypnogram([y_hmm_pred, y], labels=[ \"Classifier (HMM)\", \"Alexandra\"], subject=0, night=0)"
   ]
  },
  {
   "cell_type": "code",
   "execution_count": null,
   "metadata": {},
   "outputs": [],
   "source": []
  }
 ],
 "metadata": {
  "kernelspec": {
   "display_name": "Python 3",
   "language": "python",
   "name": "python3"
  },
  "language_info": {
   "codemirror_mode": {
    "name": "ipython",
    "version": 3
   },
   "file_extension": ".py",
   "mimetype": "text/x-python",
   "name": "python",
   "nbconvert_exporter": "python",
   "pygments_lexer": "ipython3",
   "version": "3.6.8"
  }
 },
 "nbformat": 4,
 "nbformat_minor": 4
}
