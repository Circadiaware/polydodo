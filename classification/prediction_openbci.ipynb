{
 "cells": [
  {
   "cell_type": "markdown",
   "metadata": {},
   "source": [
    "# Prediction on OpenBCI data\n",
    "___"
   ]
  },
  {
   "cell_type": "code",
   "execution_count": null,
   "metadata": {},
   "outputs": [],
   "source": [
    "%load_ext autoreload\n",
    "%autoreload 2\n",
    "%matplotlib inline\n",
    "\n",
    "import matplotlib.pyplot as plt\n",
    "import joblib\n",
    "import numpy as np\n",
    "\n",
    "from sklearn.metrics import (accuracy_score,\n",
    "                             confusion_matrix,\n",
    "                             plot_confusion_matrix,\n",
    "                             classification_report,\n",
    "                             f1_score,\n",
    "                             cohen_kappa_score,\n",
    "                             log_loss)\n",
    "\n",
    "from scipy.signal import medfilt\n",
    "\n",
    "from hmmlearn.hmm import MultinomialHMM\n",
    "from constants import (SLEEP_STAGES_VALUES, N_STAGES, EPOCH_DURATION)\n",
    "from models.model_utils import print_hypnogram"
   ]
  },
  {
   "cell_type": "code",
   "execution_count": null,
   "metadata": {},
   "outputs": [],
   "source": [
    "USE_CONTINUOUS = False\n",
    "\n",
    "if USE_CONTINUOUS:\n",
    "    X = np.load(\"./data/X_openbci-age-continuous.npy\", allow_pickle=True)\n",
    "    y = np.load(\"./data/y_openbci-age-continuous.npy\", allow_pickle=True)\n",
    "else:  \n",
    "    X = np.load(\"data/X_openbci_HP.npy\", allow_pickle=True)\n",
    "    y = np.load(\"data/y_openbci_HP.npy\", allow_pickle=True)\n",
    "\n",
    "X = np.vstack(X)\n",
    "y = np.hstack(y)\n",
    "\n",
    "print(X.shape)\n",
    "print(y.shape)"
   ]
  },
  {
   "cell_type": "code",
   "execution_count": null,
   "metadata": {},
   "outputs": [],
   "source": [
    "print(X[:,1])"
   ]
  },
  {
   "cell_type": "markdown",
   "metadata": {},
   "source": [
    "## Load classifier\n",
    "___"
   ]
  },
  {
   "cell_type": "code",
   "execution_count": null,
   "metadata": {},
   "outputs": [],
   "source": [
    "MODELS_DIR = \"trained_model\"\n",
    "\n",
    "if USE_CONTINUOUS:\n",
    "    classifier = joblib.load(f\"{MODELS_DIR}/classifier_RF_continous_age.joblib\")\n",
    "else:\n",
    "    classifier = joblib.load(f\"{MODELS_DIR}/classifier_voting.joblib\")\n"
   ]
  },
  {
   "cell_type": "markdown",
   "metadata": {},
   "source": [
    "## Prediction\n",
    "___"
   ]
  },
  {
   "cell_type": "code",
   "execution_count": null,
   "metadata": {},
   "outputs": [],
   "source": [
    "%%time\n",
    "\n",
    "y_pred = classifier.predict(X)"
   ]
  },
  {
   "cell_type": "code",
   "execution_count": null,
   "metadata": {},
   "outputs": [],
   "source": [
    "print(confusion_matrix(y, y_pred))\n",
    "\n",
    "print(classification_report(y, y_pred, target_names=SLEEP_STAGES_VALUES.keys()))\n",
    "\n",
    "print(\"Agreement score (Cohen Kappa): \", cohen_kappa_score(y, y_pred))"
   ]
  },
  {
   "cell_type": "code",
   "execution_count": null,
   "metadata": {},
   "outputs": [],
   "source": [
    "plt.rcParams[\"figure.figsize\"] = (20,5)\n",
    "\n",
    "print_hypnogram([y_pred, y], labels=[\"Classifier\", \"Alexandra\"], subject=0, night=0)"
   ]
  },
  {
   "cell_type": "markdown",
   "metadata": {},
   "source": [
    "## Results from models\n",
    "____\n",
    "\n",
    "### 1. RF\n",
    "____\n",
    "\n",
    "#### a) Not tuned\n",
    "Hyperparameters configuration: `(n_estimators=100, others=default)`\n",
    "\n",
    "```\n",
    "              precision    recall  f1-score   support\n",
    "\n",
    "           W       0.94      0.97      0.95       379\n",
    "          N1       0.11      0.02      0.03        58\n",
    "          N2       0.79      0.88      0.83       353\n",
    "          N3       0.87      0.88      0.87       242\n",
    "         REM       0.81      0.80      0.80       200\n",
    "\n",
    "    accuracy                           0.85      1232\n",
    "   macro avg       0.70      0.71      0.70      1232\n",
    "weighted avg       0.82      0.85      0.83      1232\n",
    "\n",
    "Agreement score (Cohen Kappa):  0.7987562656890558\n",
    "```\n",
    "\n",
    "#### b) Tuned version 1\n",
    "____\n",
    "\n",
    "Hyperparameters configuration: `(n_estimators=592, others=default)`\n",
    "\n",
    "```\n",
    "              precision    recall  f1-score   support\n",
    "\n",
    "           W       0.93      0.97      0.95       379\n",
    "          N1       0.20      0.02      0.03        58\n",
    "          N2       0.77      0.87      0.82       353\n",
    "          N3       0.86      0.87      0.86       242\n",
    "         REM       0.81      0.78      0.80       200\n",
    "\n",
    "    accuracy                           0.84      1232\n",
    "   macro avg       0.72      0.70      0.69      1232\n",
    "weighted avg       0.82      0.84      0.83      1232\n",
    "\n",
    "Agreement score (Cohen Kappa):  0.7918637285539025\n",
    "\n",
    "\n",
    "```\n",
    "\n",
    "#### c) Tuned version 2\n",
    "___\n",
    "\n",
    "Hyperparameters configuration: `(n_estimators=592, max_depth=24, others=default)`\n",
    "\n",
    "```\n",
    "              precision    recall  f1-score   support\n",
    "\n",
    "           W       0.93      0.97      0.95       379\n",
    "          N1       0.20      0.02      0.03        58\n",
    "          N2       0.78      0.88      0.82       353\n",
    "          N3       0.87      0.86      0.87       242\n",
    "         REM       0.81      0.78      0.79       200\n",
    "\n",
    "    accuracy                           0.85      1232\n",
    "   macro avg       0.72      0.70      0.69      1232\n",
    "weighted avg       0.82      0.85      0.83      1232\n",
    "\n",
    "Agreement score (Cohen Kappa):  0.7929001412044492\n",
    "```\n",
    "\n",
    "### 2. SVC\n",
    "___\n",
    "\n",
    "#### 1) Tuned version 1\n",
    "___\n",
    "\n",
    "Hyperparameters configuration: `(C=2.105, class_weight=\"balanced\", others=default)`\n",
    "Dimension reduction: `n_components=35`\n",
    "\n",
    "```\n",
    "              precision    recall  f1-score   support\n",
    "\n",
    "           W       0.94      0.92      0.93       379\n",
    "          N1       0.00      0.00      0.00        58\n",
    "          N2       0.80      0.82      0.81       353\n",
    "          N3       0.80      0.94      0.87       242\n",
    "         REM       0.74      0.79      0.76       200\n",
    "\n",
    "    accuracy                           0.83      1232\n",
    "   macro avg       0.66      0.69      0.67      1232\n",
    "weighted avg       0.80      0.83      0.81      1232\n",
    "\n",
    "Agreement score (Cohen Kappa):  0.7727242779700145\n",
    "```\n",
    "\n",
    "### 3. KNN\n",
    "___\n",
    "\n",
    "Hyperparameters configuration: `weights='uniform', n_neighbors=300, leaf_size=100, metric='chebyshev',`\n",
    "Dimension reduction: `LDA(n_components=default)`\n",
    "\n",
    "```\n",
    "              precision    recall  f1-score   support\n",
    "\n",
    "           W       0.92      0.89      0.91       379\n",
    "          N1       0.00      0.00      0.00        58\n",
    "          N2       0.83      0.83      0.83       353\n",
    "          N3       0.76      0.93      0.83       242\n",
    "         REM       0.77      0.83      0.80       200\n",
    "\n",
    "    accuracy                           0.83      1232\n",
    "   macro avg       0.66      0.70      0.67      1232\n",
    "weighted avg       0.80      0.83      0.81      1232\n",
    "\n",
    "Agreement score (Cohen Kappa):  0.7739705524768276\n",
    "```\n",
    "\n",
    "### 4. Voting classifier\n",
    "___\n",
    "\n",
    "#### 1. Not tuned\n",
    "___\n",
    "```\n",
    "              precision    recall  f1-score   support\n",
    "\n",
    "           W       0.93      0.95      0.94       379\n",
    "          N1       0.00      0.00      0.00        58\n",
    "          N2       0.82      0.86      0.84       353\n",
    "          N3       0.84      0.93      0.88       242\n",
    "         REM       0.78      0.81      0.80       200\n",
    "\n",
    "    accuracy                           0.85      1232\n",
    "   macro avg       0.67      0.71      0.69      1232\n",
    "weighted avg       0.81      0.85      0.83      1232\n",
    "\n",
    "Agreement score (Cohen Kappa):  0.8023524765880627\n",
    "```\n",
    "\n",
    "#### 2. Tuned (soft, RF-KNN, weights)\n",
    "___\n",
    "```\n",
    "              precision    recall  f1-score   support\n",
    "\n",
    "           W       0.94      0.96      0.95       379\n",
    "          N1       0.20      0.02      0.03        58\n",
    "          N2       0.79      0.87      0.83       353\n",
    "          N3       0.87      0.89      0.88       242\n",
    "         REM       0.79      0.80      0.80       200\n",
    "\n",
    "    accuracy                           0.85      1232\n",
    "   macro avg       0.72      0.71      0.70      1232\n",
    "weighted avg       0.83      0.85      0.83      1232\n",
    "\n",
    "Agreement score (Cohen Kappa):  0.8020247469066367\n",
    "```"
   ]
  },
  {
   "cell_type": "markdown",
   "metadata": {},
   "source": [
    "## Median filter\n",
    "___"
   ]
  },
  {
   "cell_type": "code",
   "execution_count": null,
   "metadata": {},
   "outputs": [],
   "source": [
    "KERNEL_SIZE=3\n",
    "\n",
    "y_medfilt_pred = medfilt(y_pred, kernel_size=KERNEL_SIZE)"
   ]
  },
  {
   "cell_type": "code",
   "execution_count": null,
   "metadata": {},
   "outputs": [],
   "source": [
    "print(confusion_matrix(y, y_medfilt_pred))\n",
    "\n",
    "print(classification_report(y, y_medfilt_pred, target_names=SLEEP_STAGES_VALUES.keys()))\n",
    "\n",
    "print(\"Agreement score (Cohen Kappa): \", cohen_kappa_score(y, y_medfilt_pred))\n",
    "\n",
    "print_hypnogram([y_medfilt_pred, y], labels=[ \"Classifier (Medfilter)\", \"Alexandra\"], subject=0, night=0)"
   ]
  },
  {
   "cell_type": "markdown",
   "metadata": {},
   "source": [
    "## Hidden Markov Model\n",
    "___"
   ]
  },
  {
   "cell_type": "code",
   "execution_count": null,
   "metadata": {},
   "outputs": [],
   "source": [
    "hmm_model = MultinomialHMM(n_components=N_STAGES)\n",
    "\n",
    "\n",
    "hmm_model.emissionprob_ = np.load(f\"{MODELS_DIR}/HMM_emissionprob.npy\", allow_pickle=True)\n",
    "hmm_model.startprob_ = np.load(f\"{MODELS_DIR}/HMM_startprob.npy\", allow_pickle=True)\n",
    "hmm_model.transmat_ = np.load(f\"{MODELS_DIR}/HMM_transmat.npy\", allow_pickle=True)\n",
    "\n",
    "y_hmm_pred = hmm_model.predict(y_pred.reshape(-1, 1))"
   ]
  },
  {
   "cell_type": "code",
   "execution_count": null,
   "metadata": {},
   "outputs": [],
   "source": [
    "print(confusion_matrix(y, y_hmm_pred))\n",
    "\n",
    "print(classification_report(y, y_hmm_pred, target_names=SLEEP_STAGES_VALUES.keys()))\n",
    "\n",
    "print(\"Agreement score (Cohen Kappa): \", cohen_kappa_score(y, y_hmm_pred))\n",
    "\n",
    "print_hypnogram([y_hmm_pred, y], labels=[ \"Classifier (HMM)\", \"Alexandra\"], subject=0, night=0)"
   ]
  },
  {
   "cell_type": "code",
   "execution_count": null,
   "metadata": {},
   "outputs": [],
   "source": []
  }
 ],
 "metadata": {
  "kernelspec": {
   "display_name": "Python 3",
   "language": "python",
   "name": "python3"
  },
  "language_info": {
   "codemirror_mode": {
    "name": "ipython",
    "version": 3
   },
   "file_extension": ".py",
   "mimetype": "text/x-python",
   "name": "python",
   "nbconvert_exporter": "python",
   "pygments_lexer": "ipython3",
   "version": "3.6.8"
  }
 },
 "nbformat": 4,
 "nbformat_minor": 4
}
