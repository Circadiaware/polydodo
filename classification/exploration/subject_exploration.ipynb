{
 "cells": [
  {
   "cell_type": "markdown",
   "metadata": {},
   "source": [
    "# Subject exploration\n",
    "___\n",
    "\n",
    "This notebook aims to explore, verify and add useful information to the subject informations. We will look at the provided information in the `SC_subjects.csv`, the information contained in the recording's headers and to the hypnograms. It will allow us to see the different sleep characteristics of the patients."
   ]
  },
  {
   "cell_type": "code",
   "execution_count": null,
   "metadata": {},
   "outputs": [],
   "source": [
    "%load_ext autoreload\n",
    "%autoreload 2\n",
    "\n",
    "import os\n",
    "import sys\n",
    "\n",
    "# Ensure parent folder is in PYTHONPATH\n",
    "module_path = os.path.abspath(os.path.join('..'))\n",
    "if module_path not in sys.path:\n",
    "    sys.path.append(module_path)"
   ]
  },
  {
   "cell_type": "code",
   "execution_count": null,
   "metadata": {},
   "outputs": [],
   "source": [
    "%matplotlib inline\n",
    "\n",
    "import matplotlib.pyplot as plt\n",
    "from datetime import datetime, timedelta, timezone\n",
    "import pandas as pd\n",
    "import mne \n",
    "import numpy as np\n",
    "from seaborn import regplot\n",
    "from importlib import reload\n",
    "\n",
    "from utils import (fetch_data, AGE_SLEEP_RECORDS)\n",
    "from constants import (SLEEP_STAGES_VALUES,\n",
    "                       N_STAGES,\n",
    "                       DATASET_SLEEP_STAGES_VALUES)"
   ]
  },
  {
   "cell_type": "code",
   "execution_count": null,
   "metadata": {},
   "outputs": [],
   "source": [
    "ALL_DATASET_SLEEP_STAGE_VALUES = {\n",
    "    **DATASET_SLEEP_STAGES_VALUES,\n",
    "    'Sleep stage ?': -1,\n",
    "    'Movement time': -1\n",
    "}\n",
    "\n",
    "WAKE_STAGE = ['Sleep stage W', 'Sleep stage ?', 'Movement time']\n",
    "SUBJECTS = range(83)\n",
    "NIGHTS = [1,2]"
   ]
  },
  {
   "cell_type": "code",
   "execution_count": null,
   "metadata": {},
   "outputs": [],
   "source": [
    "subject_files = fetch_data(subjects=SUBJECTS, recording=NIGHTS, local_data_path=f\"../{AGE_SLEEP_RECORDS}\")"
   ]
  },
  {
   "cell_type": "code",
   "execution_count": null,
   "metadata": {},
   "outputs": [],
   "source": [
    "df_subject_information = pd.read_csv(\"../data/SC-subjects.csv\", delimiter=';')\n",
    "df_subject_information = df_subject_information.rename(columns={\"sex (F=1)\": \"sex\"}, errors=\"raise\")\n",
    "df_subject_information['LightsOff'] =  pd.to_datetime(df_subject_information['LightsOff'], format='%H:%M')\n",
    "df_subject_information.head(5)"
   ]
  },
  {
   "cell_type": "markdown",
   "metadata": {},
   "source": [
    "## Lights off onset\n",
    "___\n",
    "\n",
    "We initially just have the **local start date and local lights off time**. Start date can be found in the recording file's headers, whereas the local lights off times are located in a separate file. Both will be saved in another file, to be later used in the pipeline.\n",
    "\n",
    "We currently have **153 night recordings** of 82 subjects. Because we have a limited capacity in terms of memory, we will have to discard some part of the recorded signal. As we've seen in the previous section, files contain a whole day of recording (a little bit less than 24 hours).\n",
    "\n",
    "We will then discard all recorded signal before the subject turned the lights off and all of the signal after the subject has awaken in the morning. We have to still analyze how many hours of recording we will have left.\n",
    "\n",
    "We will keep this information in our dataframe, where we define **NightDuration** as the timespan, in seconds, inbetween the time at which the subject closed the lights and the time at which the subject had their last non-wake sleep stage scored.\n",
    "\n",
    "Even with this data reduction, it will not be enough. Since we do not want to bother with too much data (remember our files are 7.6Gb total), we will only use the 20 first files even if we dropped channels and some of the wake time of the recordings.\n",
    "\n",
    "#### Define lights off onset\n",
    "___\n",
    "\n",
    "Since both times compared are in the same timezone, and they are only less than 24 hours apart, we will naïvely set them to UTC. "
   ]
  },
  {
   "cell_type": "code",
   "execution_count": null,
   "metadata": {},
   "outputs": [],
   "source": [
    "def get_lights_off(raw_data_info, file_index):\n",
    "    \"\"\"\n",
    "    Returns a tuple in which there are:\n",
    "        - the duration (in seconds) between the beginning of the recording and the time\n",
    "            at which the subject turned off the lights.\n",
    "        - the datetime at which the lights were turned off\n",
    "    \"\"\"\n",
    "\n",
    "    raw_data_start_time = datetime.utcfromtimestamp(raw_data_info['meas_date'][0])\n",
    "    raw_data_lights_off_time = df_subject_information.loc[file_index, 'LightsOff']\n",
    "    \n",
    "    if raw_data_lights_off_time.time().hour < 12: # Fallen asleep after midnight\n",
    "        lightoff_date = raw_data_start_time.date() + timedelta(days=1)\n",
    "    else:                                         # Fallen asleep before midnight\n",
    "        lightoff_date = raw_data_start_time.date()\n",
    "        \n",
    "    raw_data_lights_off_time = raw_data_lights_off_time.replace(year=lightoff_date.year, month=lightoff_date.month, day=lightoff_date.day)\n",
    "\n",
    "    return ((raw_data_lights_off_time - raw_data_start_time).total_seconds(), raw_data_lights_off_time)"
   ]
  },
  {
   "cell_type": "markdown",
   "metadata": {},
   "source": [
    "#### Define woke up onset\n",
    "___\n",
    "\n",
    "We consider here that the subject woke up at the last non-wake stage. It can lead to errors in some cases, because some people might have woken up in the morning, then take a nap later."
   ]
  },
  {
   "cell_type": "code",
   "execution_count": null,
   "metadata": {},
   "outputs": [],
   "source": [
    "def find_last_non_wake_annotation(annotations, timestamps):\n",
    "    scores_with_timestamp = list(zip(annotations, timestamps))\n",
    "\n",
    "    return next(\n",
    "        (time for (stage, time) in reversed(scores_with_timestamp) if stage not in WAKE_STAGE),\n",
    "        None)\n"
   ]
  },
  {
   "cell_type": "markdown",
   "metadata": {},
   "source": [
    "#### Calculate sleep onset and night duration\n",
    "___"
   ]
  },
  {
   "cell_type": "code",
   "execution_count": null,
   "metadata": {},
   "outputs": [],
   "source": [
    "\n",
    "for file_index in range(len(subject_files)):\n",
    "\n",
    "    data = mne.io.read_raw_edf(subject_files[file_index][0], preload=False, verbose=False)\n",
    "    data.set_annotations(mne.read_annotations(subject_files[file_index][1]), emit_warning=False)\n",
    "    \n",
    "    start_time_timestamp = data.info['meas_date'][0]\n",
    "    light_off_seconds, light_off_time = get_lights_off(data.info, file_index)\n",
    "    last_non_wake_seconds = find_last_non_wake_annotation(data.annotations.description, data.annotations.onset)\n",
    "    \n",
    "    assert (last_non_wake_seconds - light_off_seconds) % 30 == 0, \"Must respect epoch size\"\n",
    "    \n",
    "    df_subject_information.loc[file_index, 'NightDuration'] = last_non_wake_seconds - light_off_seconds\n",
    "    df_subject_information.loc[file_index, 'LightsOff'] = light_off_time\n",
    "    df_subject_information.loc[file_index, 'LightsOffSecond'] = light_off_seconds\n",
    "    df_subject_information.loc[file_index, 'StartRecord'] = datetime.utcfromtimestamp(start_time_timestamp)\n",
    "    df_subject_information.loc[file_index, 'StartRecordTimestamp'] = start_time_timestamp\n",
    "    \n",
    "    del data\n",
    "\n",
    "df_subject_information.head(5)"
   ]
  },
  {
   "cell_type": "markdown",
   "metadata": {},
   "source": [
    "#### Exploring night duration and lights off\n",
    "___"
   ]
  },
  {
   "cell_type": "code",
   "execution_count": null,
   "metadata": {},
   "outputs": [],
   "source": [
    "print(f\"Hours of recording: {df_subject_information['NightDuration'].sum()/3600:.3f}\")\n",
    "print(f\"Nb of 30s epochs: {df_subject_information['NightDuration'].sum()/30}\")"
   ]
  },
  {
   "cell_type": "markdown",
   "metadata": {},
   "source": [
    "We then check if any file contains unusual information."
   ]
  },
  {
   "cell_type": "code",
   "execution_count": null,
   "metadata": {},
   "outputs": [],
   "source": [
    "plt.xlabel(\"Number of hours in bed\")\n",
    "plt.ylabel(\"Number of occurences\")\n",
    "plt.grid(b=True)\n",
    "plt.hist([x/3600 for x in df_subject_information['NightDuration']]);"
   ]
  },
  {
   "cell_type": "markdown",
   "metadata": {},
   "source": [
    "We can see that, as expected, some people spent an unsually high amount of time in bed, whereas the span between the last non wake stage and the light off mark. This can be explained by the fact that some people may have taken a nap the following day.\n"
   ]
  },
  {
   "cell_type": "code",
   "execution_count": null,
   "metadata": {},
   "outputs": [],
   "source": [
    "lights_off = df_subject_information['LightsOff']\n",
    "night_duration = df_subject_information['NightDuration']\n",
    "\n",
    "plt.figure(figsize=(20, 5))\n",
    "plt.title(\"Number of occurences of the hours at which the user closed the lights\")\n",
    "plt.xlim(0, 24)\n",
    "plt.xticks(range(24))\n",
    "plt.grid(b=True)\n",
    "plt.hist(x=[h for h in lights_off.dt.hour + lights_off.dt.minute/60], bins=48)\n",
    "\n",
    "plt.plot()"
   ]
  },
  {
   "cell_type": "code",
   "execution_count": null,
   "metadata": {},
   "outputs": [],
   "source": [
    "df_subject_information.groupby(df_subject_information[\"LightsOff\"].dt.hour).count()[\"LightsOff\"].plot(kind=\"bar\")"
   ]
  },
  {
   "cell_type": "markdown",
   "metadata": {},
   "source": [
    "The earliest time at which a subject went to sleep is at about 10 o'clock and the later time at which a subject went to sleep is at about 1:45.\n",
    "\n",
    "All of the processed information looks good."
   ]
  },
  {
   "cell_type": "code",
   "execution_count": null,
   "metadata": {},
   "outputs": [],
   "source": [
    "df_subject_information.to_csv(\"../data/recordings-info.csv\", index=False)"
   ]
  },
  {
   "cell_type": "markdown",
   "metadata": {},
   "source": [
    "## Sleep Characteristics\n",
    "___\n",
    "\n",
    "\n",
    "#### Define sleep characteristics\n",
    "___"
   ]
  },
  {
   "cell_type": "code",
   "execution_count": null,
   "metadata": {},
   "outputs": [],
   "source": [
    "def get_sleep_stage_at_onset(annotations, onset):\n",
    "    \"\"\"Returns the sleep stage at the specified onset.\n",
    "    Input\n",
    "    -------\n",
    "    annotations: List of OrderedDicts, as returned by the `mne.read_annotations` function\n",
    "    onset: Time since the start of the recording in seconds.\n",
    "\n",
    "    Returns\n",
    "    -------\n",
    "    Sleep stage: str\n",
    "    \"\"\"\n",
    "    return annotations[\n",
    "        next(idx for idx, elem in enumerate(annotations) if elem['onset'] > onset) - 1\n",
    "    ]['description']\n",
    "\n",
    "def get_sleep_latency(annotations, lights_off_onset):\n",
    "    \"\"\"Returns the sleep latency\n",
    "    Input\n",
    "    -------\n",
    "    annotations: List of OrderedDicts, as returned by the `mne.read_annotations` function\n",
    "    lights_off_onset: Span between the time the record started and the lights were turned off\n",
    "\n",
    "    Returns\n",
    "    -------\n",
    "    Span, in seconds, between the time lights were turned off the first non sleep stage\n",
    "    \"\"\"\n",
    "    fell_asleep_onset = annotations[\n",
    "        next(\n",
    "            idx for idx, elem in enumerate(annotations) if elem['onset'] > lights_off_onset and elem['description'] not in WAKE_STAGE)\n",
    "    ]['onset']\n",
    "    return fell_asleep_onset - lights_off_onset\n",
    "    "
   ]
  },
  {
   "cell_type": "markdown",
   "metadata": {},
   "source": [
    "#### Calculate sleep characteristics\n",
    "___"
   ]
  },
  {
   "cell_type": "code",
   "execution_count": null,
   "metadata": {},
   "outputs": [],
   "source": [
    "\n",
    "for i in range(len(df_subject_information)):\n",
    "    annotations = mne.read_annotations(subject_files[i][1])\n",
    "    lights_off_onset = df_subject_information.loc[i, 'LightsOffSecond'] \n",
    "\n",
    "    df_subject_information.loc[i, 'SleepLatency'] = get_sleep_latency(annotations, lights_off_onset)\n",
    "    df_subject_information.loc[i, 'SleepStageAtLightsOff'] = get_sleep_stage_at_onset(annotations, lights_off_onset)\n",
    "    df_subject_information.loc[i, 'TotalSleptTime'] = np.sum([annotation['duration'] for annotation in annotations if annotation['description'] not in WAKE_STAGE])\n",
    "    df_subject_information.loc[i, 'TotalN1'] = np.sum([annotation['duration'] for annotation in annotations if annotation['description'] == 'Sleep stage 1'])\n",
    "    df_subject_information.loc[i, 'TotalN2'] = np.sum([annotation['duration'] for annotation in annotations if annotation['description'] == 'Sleep stage 2'])\n",
    "    df_subject_information.loc[i, 'TotalN3'] = np.sum([annotation['duration'] for annotation in annotations if annotation['description'] in ['Sleep stage 3', 'Sleep stage 4']])\n",
    "    df_subject_information.loc[i, 'TotalR'] = np.sum([annotation['duration'] for annotation in annotations if annotation['description'] == 'Sleep stage R'])\n",
    "    df_subject_information.loc[i, 'NbTransitionStade'] = len([annotation for annotation in annotations if annotation['description'] not in ['Sleep stage ?', 'Movement time']])\n",
    "\n",
    "df_subject_information.head(5)"
   ]
  },
  {
   "cell_type": "markdown",
   "metadata": {},
   "source": [
    "#### Verify sleep stage at lights off\n",
    "___"
   ]
  },
  {
   "cell_type": "code",
   "execution_count": null,
   "metadata": {},
   "outputs": [],
   "source": [
    "df_subject_information[df_subject_information['SleepStageAtLightsOff'] != 'Sleep stage W']"
   ]
  },
  {
   "cell_type": "markdown",
   "metadata": {},
   "source": [
    "We can see that some subjects are already alseep at the moment they marked they closed the lights.\n",
    "\n",
    "It can be explained by an oversight made by the subjects that forgot to mark it down. [??]"
   ]
  },
  {
   "cell_type": "code",
   "execution_count": null,
   "metadata": {},
   "outputs": [],
   "source": [
    "problematic_subject = df_subject_information[df_subject_information['SleepStageAtLightsOff'] != 'Sleep stage W']"
   ]
  },
  {
   "cell_type": "code",
   "execution_count": null,
   "metadata": {},
   "outputs": [],
   "source": [
    "def print_hypnogram(annotations, title, lights_off_seconds=None):\n",
    "    hypnogram_x = [onset for onset in annotations.onset for _ in (0, 1)][1:]\n",
    "    hypnogram_y = [ALL_DATASET_SLEEP_STAGE_VALUES[stage] for stage in annotations.description for _ in (0, 1)][:-1]\n",
    "    \n",
    "    plt.rcParams[\"figure.figsize\"] = (20,5)\n",
    "    plt.gca().invert_yaxis()\n",
    "    plt.plot(hypnogram_x, hypnogram_y)\n",
    "    \n",
    "    if lights_off_seconds is not None:\n",
    "        plt.axvline(lights_off_seconds, color='r')\n",
    "    \n",
    "    plt.title(title)\n",
    "    plt.xlabel(\"Onset (seconds)\")\n",
    "    plt.ylabel(\"Sleep stage\")\n",
    "    plt.show()"
   ]
  },
  {
   "cell_type": "code",
   "execution_count": null,
   "metadata": {},
   "outputs": [],
   "source": [
    "for subject_idx in problematic_subject.index:\n",
    "    annotations = mne.read_annotations(subject_files[subject_idx][1])\n",
    "    info = df_subject_information.iloc[subject_idx]\n",
    "    print_hypnogram(\n",
    "        annotations,\n",
    "        f\"Index #{subject_idx} with lights off at {info['LightsOffSecond']} seconds with start time at {info['StartRecord']}\",\n",
    "        info['LightsOffSecond'])"
   ]
  },
  {
   "cell_type": "markdown",
   "metadata": {},
   "source": [
    "If we want to calculate mean sleep characteristics, we have to exclude those, because they do not start at the right time."
   ]
  },
  {
   "cell_type": "markdown",
   "metadata": {},
   "source": [
    "#### Verify sleep latency\n",
    "___"
   ]
  },
  {
   "cell_type": "code",
   "execution_count": null,
   "metadata": {},
   "outputs": [],
   "source": [
    "plt.figure(figsize=(20,8))\n",
    "plt.title('Sleep latency of every subjects')\n",
    "plt.grid(True)\n",
    "regplot(x='age', y='SleepLatency', data=df_subject_information[~df_subject_information.isin(problematic_subject)], label='Normal recordings')\n",
    "regplot(x='age', y='SleepLatency', data=problematic_subject, label='Problematic recordings')\n",
    "plt.legend()\n"
   ]
  },
  {
   "cell_type": "markdown",
   "metadata": {},
   "source": [
    "#### Verify night duration\n",
    "___"
   ]
  },
  {
   "cell_type": "code",
   "execution_count": null,
   "metadata": {},
   "outputs": [],
   "source": [
    "sleepy_subjects = df_subject_information[df_subject_information['NightDuration'] > 3600*12]\n",
    "print(\"Number of subjects that slept a lot: \", len(sleepy_subjects))\n",
    "sleepy_subjects.head(5)"
   ]
  },
  {
   "cell_type": "code",
   "execution_count": null,
   "metadata": {},
   "outputs": [],
   "source": [
    "for subject_idx in sleepy_subjects.index:\n",
    "    annotations = mne.read_annotations(subject_files[subject_idx][1])\n",
    "    info = df_subject_information.iloc[subject_idx]\n",
    "    print_hypnogram(\n",
    "        annotations,\n",
    "        f\"Index #{subject_idx} with lights off at {info['LightsOffSecond']} seconds with start time at {info['StartRecord']}\",\n",
    "        info['LightsOffSecond'])"
   ]
  },
  {
   "cell_type": "markdown",
   "metadata": {},
   "source": [
    "We see that most people that have a night duration over 12 hours have generally fallen asleep the next day (we can assume they took a nap). If we want to calculcate the mean night duration, we have to consider those."
   ]
  },
  {
   "cell_type": "code",
   "execution_count": null,
   "metadata": {},
   "outputs": [],
   "source": []
  }
 ],
 "metadata": {
  "kernelspec": {
   "display_name": "Python 3",
   "language": "python",
   "name": "python3"
  },
  "language_info": {
   "codemirror_mode": {
    "name": "ipython",
    "version": 3
   },
   "file_extension": ".py",
   "mimetype": "text/x-python",
   "name": "python",
   "nbconvert_exporter": "python",
   "pygments_lexer": "ipython3",
   "version": "3.6.8"
  }
 },
 "nbformat": 4,
 "nbformat_minor": 4
}
