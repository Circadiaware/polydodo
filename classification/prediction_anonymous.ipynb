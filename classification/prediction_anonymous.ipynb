{
 "cells": [
  {
   "cell_type": "markdown",
   "metadata": {},
   "source": [
    "# Prediction anonymous\n",
    "___\n",
    "\n",
    "This notebook aims to present and show results from two manually scored hypnograms on the same night's recording. One hypnogram is from our dataset, and the other hypnogram was manually scored by an electrophysiologist.\n",
    "\n",
    "As stated in [this paper](https://www.ncbi.nlm.nih.gov/pmc/articles/PMC2635577/#__ffn_sectitle), significant differences may lay between these two hypnograms, because both scored didn't followed the same scoring manual. Our dataset being made in the early 90s, scorers followed R&K manual, while scorers now generally follow AASM manual.\n",
    "\n",
    "The recording that was randomly selected is `SC4441EC-Hypnogram.edf`. It corresponds to an 74 year old woman.\n",
    "\n",
    "Source: Moser, Doris, Peter Anderer, Georg Gruber, Silvia Parapatics, Erna Loretz, Marion Boeck, Gerhard Kloesch, et al. « Sleep Classification According to AASM and Rechtschaffen & Kales: Effects on Sleep Scoring Parameters ». Sleep 32, nᵒ 2 (1 février 2009): 139‑49.\n"
   ]
  },
  {
   "cell_type": "code",
   "execution_count": null,
   "metadata": {},
   "outputs": [],
   "source": [
    "%load_ext autoreload\n",
    "%autoreload 2"
   ]
  },
  {
   "cell_type": "code",
   "execution_count": null,
   "metadata": {},
   "outputs": [],
   "source": [
    "%matplotlib inline\n",
    "\n",
    "import mne\n",
    "import pandas as pd\n",
    "import numpy as np\n",
    "import matplotlib.pyplot as plt\n",
    "from datetime import datetime, timedelta\n",
    "from sklearn.metrics import (confusion_matrix,\n",
    "                             classification_report,\n",
    "                             cohen_kappa_score)\n",
    "\n",
    "from utils import fetch_data\n",
    "from constants import (SLEEP_STAGES_VALUES,\n",
    "                       DATASET_SLEEP_STAGES_VALUES,\n",
    "                       ELECTROPHYSIOLOGIST_SLEEP_STAGES,\n",
    "                       N_STAGES,\n",
    "                       EEG_CHANNELS,\n",
    "                       EPOCH_DURATION,\n",
    "                       SAMPLING_FREQ)\n",
    "from models.model_utils import (print_hypnogram)"
   ]
  },
  {
   "cell_type": "code",
   "execution_count": null,
   "metadata": {},
   "outputs": [],
   "source": [
    "NB_EPOCHS_AWAKE_MORNING = 60\n",
    "    \n",
    "NYQUIST_FREQ = SAMPLING_FREQ/2\n",
    "MAX_TIME = EPOCH_DURATION - 1. / SAMPLING_FREQ  # tmax in included\n",
    "\n",
    "SUBJECT = [44]\n",
    "NIGHT = [1]\n",
    "FOLDER_NAME = f\"./data/subject{SUBJECT[0]}-night{NIGHT[0]}\""
   ]
  },
  {
   "cell_type": "code",
   "execution_count": null,
   "metadata": {},
   "outputs": [],
   "source": [
    "df_records = pd.read_csv(\"data/recordings-info.csv\")\n",
    "df_records.head(2)"
   ]
  },
  {
   "cell_type": "markdown",
   "metadata": {},
   "source": [
    "## Extract data\n",
    "___"
   ]
  },
  {
   "cell_type": "code",
   "execution_count": null,
   "metadata": {},
   "outputs": [],
   "source": [
    "def get_hypnogram_from_filenames(signal_filename, hypnogram_filename, is_electrophysiologist=False):\n",
    "\n",
    "    raw_data = mne.io.read_raw_edf(signal_filename, preload=False, stim_channel=None, verbose=False)\n",
    "    annot = mne.read_annotations(hypnogram_filename)\n",
    "    raw_data.set_annotations(annot, emit_warning=False)\n",
    "    \n",
    "    info = df_records[(df_records['subject'] == SUBJECT[0]) & (df_records['night'] == NIGHT[0])]\n",
    "    print(info)\n",
    "\n",
    "    # Number of seconds since file began\n",
    "    closed_lights_time = info['LightsOffSecond'].values[0]\n",
    "    woke_up_time = closed_lights_time + info['NightDuration'].values[0] + NB_EPOCHS_AWAKE_MORNING*EPOCH_DURATION\n",
    "\n",
    "    raw_data.crop(tmin=closed_lights_time, tmax=min(woke_up_time, raw_data.times[-1]))\n",
    "\n",
    "    events, annot_event_id = mne.events_from_annotations(\n",
    "        raw_data,\n",
    "        event_id=ELECTROPHYSIOLOGIST_SLEEP_STAGES if is_electrophysiologist else DATASET_SLEEP_STAGES_VALUES,\n",
    "        chunk_duration=EPOCH_DURATION,\n",
    "        verbose=False)\n",
    "\n",
    "    # Few files do not have N3 sleep (i.e. SC4202EC-Hypnogram), so we have to filter out key-value pairs that are not in the annotations.\n",
    "    event_id = { \n",
    "        event_key: SLEEP_STAGES_VALUES[event_key] \n",
    "        for event_key in SLEEP_STAGES_VALUES\n",
    "        if SLEEP_STAGES_VALUES[event_key] in annot_event_id.values()\n",
    "    }\n",
    "\n",
    "    epochs = mne.Epochs(\n",
    "        raw=raw_data,\n",
    "        events=events,\n",
    "        event_id=event_id,\n",
    "        tmin=0.,\n",
    "        tmax=MAX_TIME,\n",
    "        preload=True,\n",
    "        baseline=None,\n",
    "        verbose=False)\n",
    "\n",
    "    epochs.drop_channels([\n",
    "     'EOG horizontal',\n",
    "     'Resp oro-nasal',\n",
    "     'EMG submental',\n",
    "     'Temp rectal',\n",
    "     'Event marker'])\n",
    "\n",
    "    y = np.array([event[-1] for event in epochs.events])\n",
    "    \n",
    "    return y"
   ]
  },
  {
   "cell_type": "code",
   "execution_count": null,
   "metadata": {},
   "outputs": [],
   "source": [
    "file_names = fetch_data(subjects=SUBJECT, recording=NIGHT)\n",
    "print(file_names)\n",
    "\n",
    "y_physionet = get_hypnogram_from_filenames(file_names[0][0], file_names[0][1])"
   ]
  },
  {
   "cell_type": "code",
   "execution_count": null,
   "metadata": {},
   "outputs": [],
   "source": [
    "y_electrophysiologist = get_hypnogram_from_filenames(\n",
    "    file_names[0][0],\n",
    "    f\"{FOLDER_NAME}/electrophysiologist_Hypnogram.edf\",\n",
    "    is_electrophysiologist=True\n",
    ")"
   ]
  },
  {
   "cell_type": "code",
   "execution_count": null,
   "metadata": {},
   "outputs": [],
   "source": [
    "plt.rcParams[\"figure.figsize\"] = (20,5)\n",
    "print_hypnogram(\n",
    "    [y_physionet, y_electrophysiologist],\n",
    "    labels=['physionet', 'electrophysiologist'],\n",
    "    subject=44,\n",
    "    night=1\n",
    ")"
   ]
  },
  {
   "cell_type": "code",
   "execution_count": null,
   "metadata": {},
   "outputs": [],
   "source": [
    "print(\"Matrice de confusion: \\n\", confusion_matrix(y_physionet, y_electrophysiologist))\n",
    "\n",
    "print(\"\\n\\n\", classification_report(y_physionet, y_electrophysiologist, target_names=SLEEP_STAGES_VALUES.keys()))\n",
    "\n",
    "print(\"Agreement score (Cohen Kappa): \", cohen_kappa_score(y_physionet, y_electrophysiologist))"
   ]
  },
  {
   "cell_type": "code",
   "execution_count": null,
   "metadata": {},
   "outputs": [],
   "source": []
  }
 ],
 "metadata": {
  "kernelspec": {
   "display_name": "Python 3.6.8 64-bit ('py3': conda)",
   "language": "python",
   "name": "python36864bitpy3conda60d5576ae6834cf0a5dc3773043eb4d9"
  },
  "language_info": {
   "codemirror_mode": {
    "name": "ipython",
    "version": 3
   },
   "file_extension": ".py",
   "mimetype": "text/x-python",
   "name": "python",
   "nbconvert_exporter": "python",
   "pygments_lexer": "ipython3",
   "version": "3.6.8"
  }
 },
 "nbformat": 4,
 "nbformat_minor": 4
}
