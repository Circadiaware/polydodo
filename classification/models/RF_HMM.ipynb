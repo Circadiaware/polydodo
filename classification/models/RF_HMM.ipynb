{
 "cells": [
  {
   "cell_type": "markdown",
   "metadata": {},
   "source": [
    "# Sleep stage classification: Random Forest & Hidden Markov Model\n",
    "____\n",
    "\n",
    "This model aims to classify sleep stages based on two EEG channel. We will use the features extracted in the `pipeline.ipynb` notebook as the input to a Random Forest. The output of this model will then be used as the input of a HMM. We will implement our HMM the same as in this paper (Malafeev et al., « Automatic Human Sleep Stage Scoring Using Deep Neural Networks »)."
   ]
  },
  {
   "cell_type": "code",
   "execution_count": null,
   "metadata": {},
   "outputs": [],
   "source": [
    "%load_ext autoreload\n",
    "%autoreload 2\n",
    "\n",
    "import os\n",
    "import sys\n",
    "\n",
    "# Ensure parent folder is in PYTHONPATH\n",
    "module_path = os.path.abspath(os.path.join('..'))\n",
    "if module_path not in sys.path:\n",
    "    sys.path.append(module_path)"
   ]
  },
  {
   "cell_type": "code",
   "execution_count": null,
   "metadata": {},
   "outputs": [],
   "source": [
    "%matplotlib inline\n",
    "\n",
    "from itertools import groupby\n",
    "\n",
    "import matplotlib.pyplot as plt\n",
    "import pandas as pd\n",
    "import numpy as np\n",
    "import mne\n",
    "\n",
    "from sklearn.pipeline import Pipeline\n",
    "from sklearn.compose import ColumnTransformer\n",
    "from sklearn.preprocessing import (StandardScaler)\n",
    "from sklearn.model_selection import (train_test_split, KFold)\n",
    "from sklearn.ensemble import RandomForestClassifier\n",
    "from sklearn.metrics import (accuracy_score,\n",
    "                             confusion_matrix,\n",
    "                             plot_confusion_matrix,\n",
    "                             classification_report,\n",
    "                             f1_score,\n",
    "                             cohen_kappa_score,\n",
    "                             log_loss)\n",
    "\n",
    "from scipy.signal import medfilt\n",
    "\n",
    "from hmmlearn.hmm import MultinomialHMM\n",
    "from constants import (SLEEP_STAGES_VALUES, N_STAGES, EPOCH_DURATION)\n",
    "from model_utils import print_hypnogram"
   ]
  },
  {
   "cell_type": "markdown",
   "metadata": {},
   "source": [
    "## Load the features\n",
    "___"
   ]
  },
  {
   "cell_type": "code",
   "execution_count": null,
   "metadata": {},
   "outputs": [],
   "source": [
    "# position of the subject information and night information in the X matrix\n",
    "SUBJECT_IDX = 0 \n",
    "NIGHT_IDX = 1\n"
   ]
  },
  {
   "cell_type": "code",
   "execution_count": null,
   "metadata": {},
   "outputs": [],
   "source": [
    "X_init = np.load(\"../data/x_features.npy\", allow_pickle=True)\n",
    "y_init = np.load(\"../data/y_observations.npy\", allow_pickle=True)\n"
   ]
  },
  {
   "cell_type": "code",
   "execution_count": null,
   "metadata": {},
   "outputs": [],
   "source": [
    "X_init = np.vstack(X_init)\n",
    "y_init = np.hstack(y_init)\n",
    "print(X_init.shape)\n",
    "print(y_init.shape)\n"
   ]
  },
  {
   "cell_type": "code",
   "execution_count": null,
   "metadata": {},
   "outputs": [],
   "source": [
    "print(\"Number of subjects: \", np.unique(X_init[:,SUBJECT_IDX]).shape[0]) # Some subject indexes are skipped, thus total number is below 83 (as we can see in https://physionet.org/content/sleep-edfx/1.0.0/)\n",
    "print(\"Number of nights: \", len(np.unique([f\"{int(x[0])}-{int(x[1])}\" for x in X_init[:,SUBJECT_IDX:NIGHT_IDX+1]])))\n"
   ]
  },
  {
   "cell_type": "markdown",
   "metadata": {},
   "source": [
    "## Downsizing sets\n",
    "___\n",
    "\n",
    "We will use the same set for all experiments. It includes the first 20 subjects, and excludes the 13th, because it only has one night.\n",
    "\n",
    "The last subject will be put in the test set. "
   ]
  },
  {
   "cell_type": "code",
   "execution_count": null,
   "metadata": {},
   "outputs": [],
   "source": [
    "downsize_set = False\n",
    "\n",
    "if downsize_set:\n",
    "    # Filtering to only keep first 20 subjects\n",
    "    X_20 = X_init[np.isin(X_init[:,SUBJECT_IDX], range(20))]\n",
    "    y_20 = y_init[np.isin(X_init[:,SUBJECT_IDX], range(20))]\n",
    "\n",
    "    # Exclude the subject with only one night recording (13th)\n",
    "    MISSING_NIGHT_SUBJECT = 13\n",
    "\n",
    "    X = X_20[X_20[:,SUBJECT_IDX] != MISSING_NIGHT_SUBJECT]\n",
    "    y = y_20[X_20[:,SUBJECT_IDX] != MISSING_NIGHT_SUBJECT]\n",
    "\n",
    "    print(X.shape)\n",
    "    print(y.shape)\n",
    "else:\n",
    "    X = X_init\n",
    "    y = y_init"
   ]
  },
  {
   "cell_type": "code",
   "execution_count": null,
   "metadata": {},
   "outputs": [],
   "source": [
    "print(\"Number of subjects: \", np.unique(X[:,SUBJECT_IDX]).shape[0]) # Some subject indexes are skipped, thus total number is below 83 (as we can see in https://physionet.org/content/sleep-edfx/1.0.0/)\n",
    "print(\"Subjects available: \", np.unique(X[:,SUBJECT_IDX]))\n",
    "print(\"Number of nights: \", len(np.unique([f\"{int(x[0])}-{int(x[1])}\" for x in X[:,SUBJECT_IDX:NIGHT_IDX+1]])))"
   ]
  },
  {
   "cell_type": "markdown",
   "metadata": {},
   "source": [
    "## Train, validation and test sets\n",
    "___\n",
    "\n",
    "If we downsize the dataset, the test set will only contain the two nights recording of the last subject (no 19) will be the test set. The rest will be the train and validation sets.\n",
    "\n",
    "If we did not downsize the dataset, we will randomly pick a subject from each age group to be in the test set. Both nights (if there are two) are placed in the test set so that the classifier does not train on any recordings from a subject placed in the test set.\n"
   ]
  },
  {
   "cell_type": "code",
   "execution_count": null,
   "metadata": {},
   "outputs": [],
   "source": [
    "def train_test_split_one_subject(X, subject_test=19):\n",
    "    test_indexes = np.where(X[:,SUBJECT_IDX] == subject_test)[0]\n",
    "    train_indexes = list(set(range(X.shape[0])) - set(test_indexes))\n",
    "\n",
    "    assert X.shape[0] == len(train_indexes)+len(test_indexes), \"Total train and test sets must corresponds to all dataset\"\n",
    "    \n",
    "    X_test = X[test_indexes,:]\n",
    "    y_test = y[test_indexes]\n",
    "    X_train = X[train_indexes,:]\n",
    "    y_train = y[train_indexes]\n",
    "    \n",
    "    return X_test, X_train, y_test, y_train\n",
    "\n",
    "def train_test_split_according_to_age(X, subjects_test=None):\n",
    "    AGE_CATEGORY_COL_IDX = 3\n",
    "    SUBJECT_COL_IDX = 0\n",
    "    age_categories = np.unique(X[:, AGE_CATEGORY_COL_IDX])\n",
    "    assert subjects_test is None or len(subjects_test) == len(age_categories), \"If subjects are specified, they must be specified for all age groups\"\n",
    "\n",
    "    if subjects_test is None:\n",
    "        unique_subject_with_age_group = np.array([\n",
    "            (subject, X[observation_idx, AGE_CATEGORY_COL_IDX])\n",
    "            for subject, observation_idx\n",
    "            in zip(*np.unique(X[:,SUBJECT_COL_IDX], return_index=True))])\n",
    "\n",
    "        subjects_test = [\n",
    "            np.random.choice(\n",
    "                unique_subject_with_age_group[unique_subject_with_age_group[:,1] == age, 0])\n",
    "            for age in age_categories\n",
    "        ]\n",
    "\n",
    "    print(\"Selected subjects for the test set are: \", subjects_test)\n",
    "    test_indexes = np.where(np.isin(X[:,SUBJECT_IDX], subjects_test))[0]\n",
    "    train_indexes = list(set(range(X.shape[0])) - set(test_indexes))\n",
    "\n",
    "    assert X.shape[0] == len(train_indexes)+len(test_indexes), \"Total train and test sets must corresponds to all dataset\"\n",
    "    \n",
    "    X_test = X[test_indexes,:]\n",
    "    y_test = y[test_indexes]\n",
    "    X_train = X[train_indexes,:]\n",
    "    y_train = y[train_indexes]\n",
    "    \n",
    "    return X_test, X_train, y_test, y_train\n",
    "\n",
    "if downsize_set:\n",
    "    X_test, X_train_valid, y_test, y_train_valid = train_test_split_one_subject(X)\n",
    "else:\n",
    "    X_test, X_train_valid, y_test, y_train_valid = train_test_split_according_to_age(X)\n",
    "    \n",
    "print(X_test.shape, X_train_valid.shape, y_test.shape, y_train_valid.shape)"
   ]
  },
  {
   "cell_type": "markdown",
   "metadata": {},
   "source": [
    "## Random forest validation\n",
    "___"
   ]
  },
  {
   "cell_type": "code",
   "execution_count": null,
   "metadata": {},
   "outputs": [],
   "source": [
    "NB_KFOLDS = 5\n",
    "NB_CATEGORICAL_FEATURES = 2\n",
    "NB_FEATURES = 48\n",
    "\n",
    "def get_random_forest_model():\n",
    "    return Pipeline([\n",
    "        ('scaling', ColumnTransformer([\n",
    "            ('pass-through-categorical', 'passthrough', list(range(NB_CATEGORICAL_FEATURES))),\n",
    "            ('scaling-continuous', StandardScaler(copy=False), list(range(NB_CATEGORICAL_FEATURES,NB_FEATURES)))\n",
    "        ])),\n",
    "        ('classifier', RandomForestClassifier(n_estimators=100, random_state=42, n_jobs=-1))\n",
    "    ])"
   ]
  },
  {
   "cell_type": "code",
   "execution_count": null,
   "metadata": {},
   "outputs": [],
   "source": [
    "%%time\n",
    "\n",
    "accuracies = []\n",
    "f1_scores = []\n",
    "emission_matrix = np.zeros((N_STAGES,N_STAGES))\n",
    "\n",
    "for train_index, valid_index in KFold(n_splits=5).split(X_train_valid):\n",
    "    print(\"TRAIN:\", train_index, \"VALID:\", valid_index)\n",
    "\n",
    "    # We drop the subject and night indexes\n",
    "    X_train, X_valid = X_train_valid[train_index, 2:], X_train_valid[valid_index, 2:]\n",
    "    y_train, y_valid = y_train_valid[train_index], y_train_valid[valid_index]\n",
    "    \n",
    "    # Scaling features and model training\n",
    "    training_pipeline = get_random_forest_model()\n",
    "    training_pipeline.fit(X_train, y_train)\n",
    "    \n",
    "    # Validation\n",
    "    y_valid_pred = training_pipeline.predict(X_valid)\n",
    "\n",
    "    print(\"------ STANDARD SCALER --------------\")\n",
    "    accuracies.append(round(accuracy_score(y_valid, y_valid_pred),2))\n",
    "    f1_scores.append(f1_score(y_valid, y_valid_pred, average=\"micro\"))\n",
    "    print(confusion_matrix(y_valid, y_valid_pred))\n",
    "    print(classification_report(y_valid, y_valid_pred, target_names=SLEEP_STAGES_VALUES.keys()))\n",
    "    print(\"Agreement score (Cohen Kappa): \", cohen_kappa_score(y_valid, y_valid_pred))\n",
    "    \n",
    "    for y_pred, y_true in zip(y_valid_pred, y_valid):\n",
    "        emission_matrix[y_true, y_pred] += 1\n",
    "    \n",
    "\n",
    "emission_matrix = emission_matrix / emission_matrix.sum(axis=1, keepdims=True)\n",
    "\n",
    "print(f\"\\n\\nAccuracies accross {NB_KFOLDS} folds: {accuracies}\")\n",
    "print(f\"Mean F1-score: {np.mean(f1_scores):0.2f}\")"
   ]
  },
  {
   "cell_type": "markdown",
   "metadata": {},
   "source": [
    "## Random forest training and testing\n",
    "___"
   ]
  },
  {
   "cell_type": "code",
   "execution_count": null,
   "metadata": {},
   "outputs": [],
   "source": [
    "testing_pipeline = get_random_forest_model()\n",
    "\n",
    "testing_pipeline.fit(X_train_valid[:, 2:], y_train_valid);\n",
    "y_train_valid_pred = testing_pipeline.predict(X_train_valid[:, 2:])"
   ]
  },
  {
   "cell_type": "code",
   "execution_count": null,
   "metadata": {},
   "outputs": [],
   "source": [
    "y_test_pred = testing_pipeline.predict(X_test[:,2:])\n",
    "\n",
    "print(confusion_matrix(y_test, y_test_pred))\n",
    "\n",
    "print(classification_report(y_test, y_test_pred, target_names=SLEEP_STAGES_VALUES.keys()))\n",
    "\n",
    "print(\"Agreement score (Cohen Kappa): \", cohen_kappa_score(y_test, y_test_pred))"
   ]
  },
  {
   "cell_type": "markdown",
   "metadata": {},
   "source": [
    "## Hidden Model Markov\n",
    "___"
   ]
  },
  {
   "cell_type": "code",
   "execution_count": null,
   "metadata": {},
   "outputs": [],
   "source": [
    "def compute_hmm_matrices(y, subject_night):\n",
    "    transition_matrix = np.zeros((N_STAGES,N_STAGES))\n",
    "    start_matrix = np.zeros((N_STAGES))\n",
    "\n",
    "    for night in groupby(zip(y, subject_night), key=lambda x: f\"subject{int(x[1][0])}-night{int(x[1][1])}\"):\n",
    "        print(f\"Computing file: {night[0]}\")\n",
    "        current_y = np.array([x[0] for x in night[1]])\n",
    "        start_matrix[current_y[0]] += 1\n",
    "\n",
    "        for transition in zip(current_y[:-1], current_y[1:]):\n",
    "            transition_matrix[transition[0], transition[1]] += 1\n",
    "            \n",
    "    transition_matrix = transition_matrix/transition_matrix.sum(axis=1, keepdims=True)\n",
    "    start_matrix = start_matrix/start_matrix.sum()\n",
    "    \n",
    "    return transition_matrix, start_matrix\n",
    "    \n",
    "transition_matrix, start_matrix = compute_hmm_matrices(y_train_valid, X_train_valid[:,0:2])"
   ]
  },
  {
   "cell_type": "code",
   "execution_count": null,
   "metadata": {},
   "outputs": [],
   "source": [
    "hmm_model = MultinomialHMM(n_components=N_STAGES)\n",
    "\n",
    "hmm_model.transmat_ = transition_matrix\n",
    "hmm_model.startprob_ = start_matrix\n",
    "hmm_model.emissionprob_ = emission_matrix"
   ]
  },
  {
   "cell_type": "code",
   "execution_count": null,
   "metadata": {},
   "outputs": [],
   "source": [
    "y_hmm_pred = hmm_model.predict(y_test_pred.reshape(-1, 1))"
   ]
  },
  {
   "cell_type": "code",
   "execution_count": null,
   "metadata": {},
   "outputs": [],
   "source": [
    "print(confusion_matrix(y_test, y_hmm_pred))\n",
    "\n",
    "print(classification_report(y_test, y_hmm_pred, target_names=SLEEP_STAGES_VALUES.keys()))\n",
    "\n",
    "print(\"Agreement score (Cohen Kappa): \", cohen_kappa_score(y_test, y_hmm_pred))"
   ]
  },
  {
   "cell_type": "code",
   "execution_count": null,
   "metadata": {},
   "outputs": [],
   "source": [
    "print(\"Test subjects are subjects: \", np.unique(X_test[:,0]))\n",
    "print(\"BEFORE HMM\")\n",
    "plt.rcParams[\"figure.figsize\"] = (20,5)\n",
    "\n",
    "for test_subject in np.unique(X_test[:,0]):\n",
    "    test_subject_indexes = [idx for idx, elem in enumerate(X_test) if elem[0] == test_subject]\n",
    "    \n",
    "    for night_idx in np.unique(X_test[test_subject_indexes,1]):\n",
    "        test_night_subject_indexes = [\n",
    "            idx for idx, elem in enumerate(X_test)\n",
    "            if elem[0] == test_subject and elem[1] == night_idx]\n",
    "        hypnograms = [\n",
    "            y_test[test_night_subject_indexes],\n",
    "            y_test_pred[test_night_subject_indexes]\n",
    "        ]\n",
    "        \n",
    "        print_hypnogram(hypnograms,\n",
    "                        labels=[\"scored\", \"predicted\"],\n",
    "                        subject=test_subject,\n",
    "                        night=night_idx)"
   ]
  },
  {
   "cell_type": "code",
   "execution_count": null,
   "metadata": {},
   "outputs": [],
   "source": [
    "print(\"Test subjects are subjects: \", np.unique(X_test[:,0]))\n",
    "print(\"AFTER HMM\")\n",
    "\n",
    "for test_subject in np.unique(X_test[:,0]):\n",
    "    test_subject_indexes = [idx for idx, elem in enumerate(X_test) if elem[0] == test_subject]\n",
    "    \n",
    "    for night_idx in np.unique(X_test[test_subject_indexes,1]):\n",
    "        test_night_subject_indexes = [\n",
    "            idx for idx, elem in enumerate(X_test)\n",
    "            if elem[0] == test_subject and elem[1] == night_idx]\n",
    "        hypnograms = [\n",
    "            y_test[test_night_subject_indexes],\n",
    "            y_hmm_pred[test_night_subject_indexes]\n",
    "        ]\n",
    "        \n",
    "        print_hypnogram(hypnograms,\n",
    "                        labels=[\"scored\", \"predicted with HMM\"],\n",
    "                        subject=test_subject,\n",
    "                        night=night_idx)"
   ]
  },
  {
   "cell_type": "markdown",
   "metadata": {},
   "source": [
    "## Median filter\n",
    "___\n",
    "\n",
    "In order to compare the HMM postprocessing step, we will apply a median filter to the output of the RF.\n",
    "\n",
    "We apply a median filter with a 3 element sized kernel. It is applied to each nights sleep seperatly. We do this because short transitions are not common in sleep patterns:\n",
    "\n",
    "> The final stage includes median filtration of short-term transitions. It is well known that short-term transitions in human sleep are impossible. Short-term jumps in hypnogram are evidence of transitory stage. Averaging for 2-3 min allows the curve structure to be smoothed and sleep structure to be resolved. \n",
    "\n",
    "Source: Doroshenkov, L. G., V. A. Konyshev, et S. V. Selishchev. « Classification of Human Sleep Stages Based on EEG Processing Using Hidden Markov Models ». Biomedical Engineering 41, nᵒ 1 (janvier 2007): 25‑28. https://doi.org/10.1007/s10527-007-0006-5.\n"
   ]
  },
  {
   "cell_type": "code",
   "execution_count": null,
   "metadata": {},
   "outputs": [],
   "source": [
    "KERNEL_SIZE=3\n",
    "y_medfilt_pred = np.zeros(y_test.shape[0])\n",
    "\n",
    "for test_subject in np.unique(X_test[:,0]):\n",
    "    test_subject_indexes = [idx for idx, elem in enumerate(X_test) if elem[0] == test_subject]\n",
    "    \n",
    "    for night_idx in np.unique(X_test[test_subject_indexes,1]):\n",
    "        test_night_subject_indexes = [\n",
    "            idx for idx, elem in enumerate(X_test)\n",
    "            if elem[0] == test_subject and elem[1] == night_idx]\n",
    "\n",
    "        y_medfilt_pred[test_night_subject_indexes] = medfilt(y_test_pred[test_night_subject_indexes], kernel_size=KERNEL_SIZE)"
   ]
  },
  {
   "cell_type": "code",
   "execution_count": null,
   "metadata": {},
   "outputs": [],
   "source": [
    "print(confusion_matrix(y_test, y_medfilt_pred))\n",
    "\n",
    "print(classification_report(y_test, y_medfilt_pred, target_names=SLEEP_STAGES_VALUES.keys()))\n",
    "\n",
    "print(\"Agreement score (Cohen Kappa): \", cohen_kappa_score(y_test, y_medfilt_pred))"
   ]
  },
  {
   "cell_type": "code",
   "execution_count": null,
   "metadata": {},
   "outputs": [],
   "source": [
    "plt.rcParams[\"figure.figsize\"] = (20,5)\n",
    "\n",
    "print(\"Test subjects are subjects: \", np.unique(X_test[:,0]))\n",
    "\n",
    "for test_subject in np.unique(X_test[:,0]):\n",
    "    test_subject_indexes = [idx for idx, elem in enumerate(X_test) if elem[0] == test_subject]\n",
    "    \n",
    "    for night_idx in np.unique(X_test[test_subject_indexes,1]):\n",
    "        test_night_subject_indexes = [\n",
    "            idx for idx, elem in enumerate(X_test)\n",
    "            if elem[0] == test_subject and elem[1] == night_idx]\n",
    "        \n",
    "        hypnograms = [\n",
    "            y_test[test_night_subject_indexes],\n",
    "            y_medfilt_pred[test_night_subject_indexes]\n",
    "        ]\n",
    "        \n",
    "        print_hypnogram(hypnograms,\n",
    "                        labels=[\"scored\", \"predicted with median filter\"],\n",
    "                        subject=test_subject,\n",
    "                        night=night_idx)"
   ]
  },
  {
   "cell_type": "code",
   "execution_count": null,
   "metadata": {},
   "outputs": [],
   "source": []
  }
 ],
 "metadata": {
  "kernelspec": {
   "display_name": "Python 3.6.8 64-bit ('py3': conda)",
   "language": "python",
   "name": "python36864bitpy3conda60d5576ae6834cf0a5dc3773043eb4d9"
  },
  "language_info": {
   "codemirror_mode": {
    "name": "ipython",
    "version": 3
   },
   "file_extension": ".py",
   "mimetype": "text/x-python",
   "name": "python",
   "nbconvert_exporter": "python",
   "pygments_lexer": "ipython3",
   "version": "3.6.8"
  }
 },
 "nbformat": 4,
 "nbformat_minor": 4
}
